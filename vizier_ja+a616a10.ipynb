{
  "cells": [
    {
      "cell_type": "markdown",
      "metadata": {
        "id": "view-in-github",
        "colab_type": "text"
      },
      "source": [
        "<a href=\"https://colab.research.google.com/github/arturbernardo/data_stars/blob/main/vizier_ja%2Ba616a10.ipynb\" target=\"_parent\"><img src=\"https://colab.research.google.com/assets/colab-badge.svg\" alt=\"Open In Colab\"/></a>"
      ]
    },
    {
      "cell_type": "code",
      "source": [
        "!pip install pyvo\n",
        "!pip install mocpy\n",
        "!pip install astropy\n",
        "!pip install ipyaladin\n"
      ],
      "metadata": {
        "colab": {
          "base_uri": "https://localhost:8080/"
        },
        "id": "sw9qoVtKPZcB",
        "outputId": "12538ec0-0bbc-440d-9d50-920928a886c8"
      },
      "id": "sw9qoVtKPZcB",
      "execution_count": 5,
      "outputs": [
        {
          "output_type": "stream",
          "name": "stdout",
          "text": [
            "Requirement already satisfied: pyvo in /usr/local/lib/python3.11/dist-packages (1.6.1)\n",
            "Requirement already satisfied: astropy>=4.1 in /usr/local/lib/python3.11/dist-packages (from pyvo) (7.0.1)\n",
            "Requirement already satisfied: requests in /usr/local/lib/python3.11/dist-packages (from pyvo) (2.32.3)\n",
            "Requirement already satisfied: numpy>=1.23.2 in /usr/local/lib/python3.11/dist-packages (from astropy>=4.1->pyvo) (2.0.2)\n",
            "Requirement already satisfied: pyerfa>=2.0.1.1 in /usr/local/lib/python3.11/dist-packages (from astropy>=4.1->pyvo) (2.0.1.5)\n",
            "Requirement already satisfied: astropy-iers-data>=0.2025.1.31.12.41.4 in /usr/local/lib/python3.11/dist-packages (from astropy>=4.1->pyvo) (0.2025.3.31.0.36.18)\n",
            "Requirement already satisfied: PyYAML>=6.0.0 in /usr/local/lib/python3.11/dist-packages (from astropy>=4.1->pyvo) (6.0.2)\n",
            "Requirement already satisfied: packaging>=22.0.0 in /usr/local/lib/python3.11/dist-packages (from astropy>=4.1->pyvo) (24.2)\n",
            "Requirement already satisfied: charset-normalizer<4,>=2 in /usr/local/lib/python3.11/dist-packages (from requests->pyvo) (3.4.1)\n",
            "Requirement already satisfied: idna<4,>=2.5 in /usr/local/lib/python3.11/dist-packages (from requests->pyvo) (3.10)\n",
            "Requirement already satisfied: urllib3<3,>=1.21.1 in /usr/local/lib/python3.11/dist-packages (from requests->pyvo) (2.3.0)\n",
            "Requirement already satisfied: certifi>=2017.4.17 in /usr/local/lib/python3.11/dist-packages (from requests->pyvo) (2025.1.31)\n",
            "Collecting mocpy\n",
            "  Downloading mocpy-0.17.1-cp311-cp311-manylinux_2_28_x86_64.whl.metadata (5.8 kB)\n",
            "Requirement already satisfied: astropy in /usr/local/lib/python3.11/dist-packages (from mocpy) (7.0.1)\n",
            "Requirement already satisfied: numpy in /usr/local/lib/python3.11/dist-packages (from mocpy) (2.0.2)\n",
            "Requirement already satisfied: matplotlib in /usr/local/lib/python3.11/dist-packages (from mocpy) (3.10.0)\n",
            "Collecting cdshealpix>=0.6.4 (from mocpy)\n",
            "  Downloading cdshealpix-0.7.1-cp311-cp311-manylinux_2_17_x86_64.manylinux2014_x86_64.whl.metadata (4.3 kB)\n",
            "Requirement already satisfied: networkx>=2.5 in /usr/local/lib/python3.11/dist-packages (from mocpy) (3.4.2)\n",
            "Requirement already satisfied: pyerfa>=2.0.1.1 in /usr/local/lib/python3.11/dist-packages (from astropy->mocpy) (2.0.1.5)\n",
            "Requirement already satisfied: astropy-iers-data>=0.2025.1.31.12.41.4 in /usr/local/lib/python3.11/dist-packages (from astropy->mocpy) (0.2025.3.31.0.36.18)\n",
            "Requirement already satisfied: PyYAML>=6.0.0 in /usr/local/lib/python3.11/dist-packages (from astropy->mocpy) (6.0.2)\n",
            "Requirement already satisfied: packaging>=22.0.0 in /usr/local/lib/python3.11/dist-packages (from astropy->mocpy) (24.2)\n",
            "Requirement already satisfied: contourpy>=1.0.1 in /usr/local/lib/python3.11/dist-packages (from matplotlib->mocpy) (1.3.1)\n",
            "Requirement already satisfied: cycler>=0.10 in /usr/local/lib/python3.11/dist-packages (from matplotlib->mocpy) (0.12.1)\n",
            "Requirement already satisfied: fonttools>=4.22.0 in /usr/local/lib/python3.11/dist-packages (from matplotlib->mocpy) (4.56.0)\n",
            "Requirement already satisfied: kiwisolver>=1.3.1 in /usr/local/lib/python3.11/dist-packages (from matplotlib->mocpy) (1.4.8)\n",
            "Requirement already satisfied: pillow>=8 in /usr/local/lib/python3.11/dist-packages (from matplotlib->mocpy) (11.1.0)\n",
            "Requirement already satisfied: pyparsing>=2.3.1 in /usr/local/lib/python3.11/dist-packages (from matplotlib->mocpy) (3.2.3)\n",
            "Requirement already satisfied: python-dateutil>=2.7 in /usr/local/lib/python3.11/dist-packages (from matplotlib->mocpy) (2.8.2)\n",
            "Requirement already satisfied: six>=1.5 in /usr/local/lib/python3.11/dist-packages (from python-dateutil>=2.7->matplotlib->mocpy) (1.17.0)\n",
            "Downloading mocpy-0.17.1-cp311-cp311-manylinux_2_28_x86_64.whl (1.3 MB)\n",
            "\u001b[2K   \u001b[90m━━━━━━━━━━━━━━━━━━━━━━━━━━━━━━━━━━━━━━━━\u001b[0m \u001b[32m1.3/1.3 MB\u001b[0m \u001b[31m21.7 MB/s\u001b[0m eta \u001b[36m0:00:00\u001b[0m\n",
            "\u001b[?25hDownloading cdshealpix-0.7.1-cp311-cp311-manylinux_2_17_x86_64.manylinux2014_x86_64.whl (1.3 MB)\n",
            "\u001b[2K   \u001b[90m━━━━━━━━━━━━━━━━━━━━━━━━━━━━━━━━━━━━━━━━\u001b[0m \u001b[32m1.3/1.3 MB\u001b[0m \u001b[31m46.0 MB/s\u001b[0m eta \u001b[36m0:00:00\u001b[0m\n",
            "\u001b[?25hInstalling collected packages: cdshealpix, mocpy\n",
            "Successfully installed cdshealpix-0.7.1 mocpy-0.17.1\n",
            "Requirement already satisfied: astropy in /usr/local/lib/python3.11/dist-packages (7.0.1)\n",
            "Requirement already satisfied: numpy>=1.23.2 in /usr/local/lib/python3.11/dist-packages (from astropy) (2.0.2)\n",
            "Requirement already satisfied: pyerfa>=2.0.1.1 in /usr/local/lib/python3.11/dist-packages (from astropy) (2.0.1.5)\n",
            "Requirement already satisfied: astropy-iers-data>=0.2025.1.31.12.41.4 in /usr/local/lib/python3.11/dist-packages (from astropy) (0.2025.3.31.0.36.18)\n",
            "Requirement already satisfied: PyYAML>=6.0.0 in /usr/local/lib/python3.11/dist-packages (from astropy) (6.0.2)\n",
            "Requirement already satisfied: packaging>=22.0.0 in /usr/local/lib/python3.11/dist-packages (from astropy) (24.2)\n",
            "Collecting ipyaladin\n",
            "  Downloading ipyaladin-0.5.2-py3-none-any.whl.metadata (7.0 kB)\n",
            "Collecting anywidget (from ipyaladin)\n",
            "  Downloading anywidget-0.9.18-py3-none-any.whl.metadata (8.9 kB)\n",
            "Requirement already satisfied: astropy in /usr/local/lib/python3.11/dist-packages (from ipyaladin) (7.0.1)\n",
            "Requirement already satisfied: ipywidgets>=7.6.0 in /usr/local/lib/python3.11/dist-packages (from anywidget->ipyaladin) (7.7.1)\n",
            "Collecting psygnal>=0.8.1 (from anywidget->ipyaladin)\n",
            "  Downloading psygnal-0.12.0-cp311-cp311-manylinux_2_17_x86_64.manylinux2014_x86_64.whl.metadata (7.7 kB)\n",
            "Requirement already satisfied: typing-extensions>=4.2.0 in /usr/local/lib/python3.11/dist-packages (from anywidget->ipyaladin) (4.13.0)\n",
            "Requirement already satisfied: numpy>=1.23.2 in /usr/local/lib/python3.11/dist-packages (from astropy->ipyaladin) (2.0.2)\n",
            "Requirement already satisfied: pyerfa>=2.0.1.1 in /usr/local/lib/python3.11/dist-packages (from astropy->ipyaladin) (2.0.1.5)\n",
            "Requirement already satisfied: astropy-iers-data>=0.2025.1.31.12.41.4 in /usr/local/lib/python3.11/dist-packages (from astropy->ipyaladin) (0.2025.3.31.0.36.18)\n",
            "Requirement already satisfied: PyYAML>=6.0.0 in /usr/local/lib/python3.11/dist-packages (from astropy->ipyaladin) (6.0.2)\n",
            "Requirement already satisfied: packaging>=22.0.0 in /usr/local/lib/python3.11/dist-packages (from astropy->ipyaladin) (24.2)\n",
            "Requirement already satisfied: ipykernel>=4.5.1 in /usr/local/lib/python3.11/dist-packages (from ipywidgets>=7.6.0->anywidget->ipyaladin) (6.17.1)\n",
            "Requirement already satisfied: ipython-genutils~=0.2.0 in /usr/local/lib/python3.11/dist-packages (from ipywidgets>=7.6.0->anywidget->ipyaladin) (0.2.0)\n",
            "Requirement already satisfied: traitlets>=4.3.1 in /usr/local/lib/python3.11/dist-packages (from ipywidgets>=7.6.0->anywidget->ipyaladin) (5.7.1)\n",
            "Requirement already satisfied: widgetsnbextension~=3.6.0 in /usr/local/lib/python3.11/dist-packages (from ipywidgets>=7.6.0->anywidget->ipyaladin) (3.6.10)\n",
            "Requirement already satisfied: ipython>=4.0.0 in /usr/local/lib/python3.11/dist-packages (from ipywidgets>=7.6.0->anywidget->ipyaladin) (7.34.0)\n",
            "Requirement already satisfied: jupyterlab-widgets>=1.0.0 in /usr/local/lib/python3.11/dist-packages (from ipywidgets>=7.6.0->anywidget->ipyaladin) (3.0.13)\n",
            "Requirement already satisfied: debugpy>=1.0 in /usr/local/lib/python3.11/dist-packages (from ipykernel>=4.5.1->ipywidgets>=7.6.0->anywidget->ipyaladin) (1.8.0)\n",
            "Requirement already satisfied: jupyter-client>=6.1.12 in /usr/local/lib/python3.11/dist-packages (from ipykernel>=4.5.1->ipywidgets>=7.6.0->anywidget->ipyaladin) (6.1.12)\n",
            "Requirement already satisfied: matplotlib-inline>=0.1 in /usr/local/lib/python3.11/dist-packages (from ipykernel>=4.5.1->ipywidgets>=7.6.0->anywidget->ipyaladin) (0.1.7)\n",
            "Requirement already satisfied: nest-asyncio in /usr/local/lib/python3.11/dist-packages (from ipykernel>=4.5.1->ipywidgets>=7.6.0->anywidget->ipyaladin) (1.6.0)\n",
            "Requirement already satisfied: psutil in /usr/local/lib/python3.11/dist-packages (from ipykernel>=4.5.1->ipywidgets>=7.6.0->anywidget->ipyaladin) (5.9.5)\n",
            "Requirement already satisfied: pyzmq>=17 in /usr/local/lib/python3.11/dist-packages (from ipykernel>=4.5.1->ipywidgets>=7.6.0->anywidget->ipyaladin) (24.0.1)\n",
            "Requirement already satisfied: tornado>=6.1 in /usr/local/lib/python3.11/dist-packages (from ipykernel>=4.5.1->ipywidgets>=7.6.0->anywidget->ipyaladin) (6.4.2)\n",
            "Requirement already satisfied: setuptools>=18.5 in /usr/local/lib/python3.11/dist-packages (from ipython>=4.0.0->ipywidgets>=7.6.0->anywidget->ipyaladin) (75.2.0)\n",
            "Collecting jedi>=0.16 (from ipython>=4.0.0->ipywidgets>=7.6.0->anywidget->ipyaladin)\n",
            "  Downloading jedi-0.19.2-py2.py3-none-any.whl.metadata (22 kB)\n",
            "Requirement already satisfied: decorator in /usr/local/lib/python3.11/dist-packages (from ipython>=4.0.0->ipywidgets>=7.6.0->anywidget->ipyaladin) (4.4.2)\n",
            "Requirement already satisfied: pickleshare in /usr/local/lib/python3.11/dist-packages (from ipython>=4.0.0->ipywidgets>=7.6.0->anywidget->ipyaladin) (0.7.5)\n",
            "Requirement already satisfied: prompt-toolkit!=3.0.0,!=3.0.1,<3.1.0,>=2.0.0 in /usr/local/lib/python3.11/dist-packages (from ipython>=4.0.0->ipywidgets>=7.6.0->anywidget->ipyaladin) (3.0.50)\n",
            "Requirement already satisfied: pygments in /usr/local/lib/python3.11/dist-packages (from ipython>=4.0.0->ipywidgets>=7.6.0->anywidget->ipyaladin) (2.18.0)\n",
            "Requirement already satisfied: backcall in /usr/local/lib/python3.11/dist-packages (from ipython>=4.0.0->ipywidgets>=7.6.0->anywidget->ipyaladin) (0.2.0)\n",
            "Requirement already satisfied: pexpect>4.3 in /usr/local/lib/python3.11/dist-packages (from ipython>=4.0.0->ipywidgets>=7.6.0->anywidget->ipyaladin) (4.9.0)\n",
            "Requirement already satisfied: notebook>=4.4.1 in /usr/local/lib/python3.11/dist-packages (from widgetsnbextension~=3.6.0->ipywidgets>=7.6.0->anywidget->ipyaladin) (6.5.7)\n",
            "Requirement already satisfied: parso<0.9.0,>=0.8.4 in /usr/local/lib/python3.11/dist-packages (from jedi>=0.16->ipython>=4.0.0->ipywidgets>=7.6.0->anywidget->ipyaladin) (0.8.4)\n",
            "Requirement already satisfied: jupyter-core>=4.6.0 in /usr/local/lib/python3.11/dist-packages (from jupyter-client>=6.1.12->ipykernel>=4.5.1->ipywidgets>=7.6.0->anywidget->ipyaladin) (5.7.2)\n",
            "Requirement already satisfied: python-dateutil>=2.1 in /usr/local/lib/python3.11/dist-packages (from jupyter-client>=6.1.12->ipykernel>=4.5.1->ipywidgets>=7.6.0->anywidget->ipyaladin) (2.8.2)\n",
            "Requirement already satisfied: jinja2 in /usr/local/lib/python3.11/dist-packages (from notebook>=4.4.1->widgetsnbextension~=3.6.0->ipywidgets>=7.6.0->anywidget->ipyaladin) (3.1.6)\n",
            "Requirement already satisfied: argon2-cffi in /usr/local/lib/python3.11/dist-packages (from notebook>=4.4.1->widgetsnbextension~=3.6.0->ipywidgets>=7.6.0->anywidget->ipyaladin) (23.1.0)\n",
            "Requirement already satisfied: nbformat in /usr/local/lib/python3.11/dist-packages (from notebook>=4.4.1->widgetsnbextension~=3.6.0->ipywidgets>=7.6.0->anywidget->ipyaladin) (5.10.4)\n",
            "Requirement already satisfied: nbconvert>=5 in /usr/local/lib/python3.11/dist-packages (from notebook>=4.4.1->widgetsnbextension~=3.6.0->ipywidgets>=7.6.0->anywidget->ipyaladin) (7.16.6)\n",
            "Requirement already satisfied: Send2Trash>=1.8.0 in /usr/local/lib/python3.11/dist-packages (from notebook>=4.4.1->widgetsnbextension~=3.6.0->ipywidgets>=7.6.0->anywidget->ipyaladin) (1.8.3)\n",
            "Requirement already satisfied: terminado>=0.8.3 in /usr/local/lib/python3.11/dist-packages (from notebook>=4.4.1->widgetsnbextension~=3.6.0->ipywidgets>=7.6.0->anywidget->ipyaladin) (0.18.1)\n",
            "Requirement already satisfied: prometheus-client in /usr/local/lib/python3.11/dist-packages (from notebook>=4.4.1->widgetsnbextension~=3.6.0->ipywidgets>=7.6.0->anywidget->ipyaladin) (0.21.1)\n",
            "Requirement already satisfied: nbclassic>=0.4.7 in /usr/local/lib/python3.11/dist-packages (from notebook>=4.4.1->widgetsnbextension~=3.6.0->ipywidgets>=7.6.0->anywidget->ipyaladin) (1.2.0)\n",
            "Requirement already satisfied: ptyprocess>=0.5 in /usr/local/lib/python3.11/dist-packages (from pexpect>4.3->ipython>=4.0.0->ipywidgets>=7.6.0->anywidget->ipyaladin) (0.7.0)\n",
            "Requirement already satisfied: wcwidth in /usr/local/lib/python3.11/dist-packages (from prompt-toolkit!=3.0.0,!=3.0.1,<3.1.0,>=2.0.0->ipython>=4.0.0->ipywidgets>=7.6.0->anywidget->ipyaladin) (0.2.13)\n",
            "Requirement already satisfied: platformdirs>=2.5 in /usr/local/lib/python3.11/dist-packages (from jupyter-core>=4.6.0->jupyter-client>=6.1.12->ipykernel>=4.5.1->ipywidgets>=7.6.0->anywidget->ipyaladin) (4.3.7)\n",
            "Requirement already satisfied: notebook-shim>=0.2.3 in /usr/local/lib/python3.11/dist-packages (from nbclassic>=0.4.7->notebook>=4.4.1->widgetsnbextension~=3.6.0->ipywidgets>=7.6.0->anywidget->ipyaladin) (0.2.4)\n",
            "Requirement already satisfied: beautifulsoup4 in /usr/local/lib/python3.11/dist-packages (from nbconvert>=5->notebook>=4.4.1->widgetsnbextension~=3.6.0->ipywidgets>=7.6.0->anywidget->ipyaladin) (4.13.3)\n",
            "Requirement already satisfied: bleach!=5.0.0 in /usr/local/lib/python3.11/dist-packages (from bleach[css]!=5.0.0->nbconvert>=5->notebook>=4.4.1->widgetsnbextension~=3.6.0->ipywidgets>=7.6.0->anywidget->ipyaladin) (6.2.0)\n",
            "Requirement already satisfied: defusedxml in /usr/local/lib/python3.11/dist-packages (from nbconvert>=5->notebook>=4.4.1->widgetsnbextension~=3.6.0->ipywidgets>=7.6.0->anywidget->ipyaladin) (0.7.1)\n",
            "Requirement already satisfied: jupyterlab-pygments in /usr/local/lib/python3.11/dist-packages (from nbconvert>=5->notebook>=4.4.1->widgetsnbextension~=3.6.0->ipywidgets>=7.6.0->anywidget->ipyaladin) (0.3.0)\n",
            "Requirement already satisfied: markupsafe>=2.0 in /usr/local/lib/python3.11/dist-packages (from nbconvert>=5->notebook>=4.4.1->widgetsnbextension~=3.6.0->ipywidgets>=7.6.0->anywidget->ipyaladin) (3.0.2)\n",
            "Requirement already satisfied: mistune<4,>=2.0.3 in /usr/local/lib/python3.11/dist-packages (from nbconvert>=5->notebook>=4.4.1->widgetsnbextension~=3.6.0->ipywidgets>=7.6.0->anywidget->ipyaladin) (3.1.3)\n",
            "Requirement already satisfied: nbclient>=0.5.0 in /usr/local/lib/python3.11/dist-packages (from nbconvert>=5->notebook>=4.4.1->widgetsnbextension~=3.6.0->ipywidgets>=7.6.0->anywidget->ipyaladin) (0.10.2)\n",
            "Requirement already satisfied: pandocfilters>=1.4.1 in /usr/local/lib/python3.11/dist-packages (from nbconvert>=5->notebook>=4.4.1->widgetsnbextension~=3.6.0->ipywidgets>=7.6.0->anywidget->ipyaladin) (1.5.1)\n",
            "Requirement already satisfied: fastjsonschema>=2.15 in /usr/local/lib/python3.11/dist-packages (from nbformat->notebook>=4.4.1->widgetsnbextension~=3.6.0->ipywidgets>=7.6.0->anywidget->ipyaladin) (2.21.1)\n",
            "Requirement already satisfied: jsonschema>=2.6 in /usr/local/lib/python3.11/dist-packages (from nbformat->notebook>=4.4.1->widgetsnbextension~=3.6.0->ipywidgets>=7.6.0->anywidget->ipyaladin) (4.23.0)\n",
            "Requirement already satisfied: six>=1.5 in /usr/local/lib/python3.11/dist-packages (from python-dateutil>=2.1->jupyter-client>=6.1.12->ipykernel>=4.5.1->ipywidgets>=7.6.0->anywidget->ipyaladin) (1.17.0)\n",
            "Requirement already satisfied: argon2-cffi-bindings in /usr/local/lib/python3.11/dist-packages (from argon2-cffi->notebook>=4.4.1->widgetsnbextension~=3.6.0->ipywidgets>=7.6.0->anywidget->ipyaladin) (21.2.0)\n",
            "Requirement already satisfied: webencodings in /usr/local/lib/python3.11/dist-packages (from bleach!=5.0.0->bleach[css]!=5.0.0->nbconvert>=5->notebook>=4.4.1->widgetsnbextension~=3.6.0->ipywidgets>=7.6.0->anywidget->ipyaladin) (0.5.1)\n",
            "Requirement already satisfied: tinycss2<1.5,>=1.1.0 in /usr/local/lib/python3.11/dist-packages (from bleach[css]!=5.0.0->nbconvert>=5->notebook>=4.4.1->widgetsnbextension~=3.6.0->ipywidgets>=7.6.0->anywidget->ipyaladin) (1.4.0)\n",
            "Requirement already satisfied: attrs>=22.2.0 in /usr/local/lib/python3.11/dist-packages (from jsonschema>=2.6->nbformat->notebook>=4.4.1->widgetsnbextension~=3.6.0->ipywidgets>=7.6.0->anywidget->ipyaladin) (25.3.0)\n",
            "Requirement already satisfied: jsonschema-specifications>=2023.03.6 in /usr/local/lib/python3.11/dist-packages (from jsonschema>=2.6->nbformat->notebook>=4.4.1->widgetsnbextension~=3.6.0->ipywidgets>=7.6.0->anywidget->ipyaladin) (2024.10.1)\n",
            "Requirement already satisfied: referencing>=0.28.4 in /usr/local/lib/python3.11/dist-packages (from jsonschema>=2.6->nbformat->notebook>=4.4.1->widgetsnbextension~=3.6.0->ipywidgets>=7.6.0->anywidget->ipyaladin) (0.36.2)\n",
            "Requirement already satisfied: rpds-py>=0.7.1 in /usr/local/lib/python3.11/dist-packages (from jsonschema>=2.6->nbformat->notebook>=4.4.1->widgetsnbextension~=3.6.0->ipywidgets>=7.6.0->anywidget->ipyaladin) (0.24.0)\n",
            "Requirement already satisfied: jupyter-server<3,>=1.8 in /usr/local/lib/python3.11/dist-packages (from notebook-shim>=0.2.3->nbclassic>=0.4.7->notebook>=4.4.1->widgetsnbextension~=3.6.0->ipywidgets>=7.6.0->anywidget->ipyaladin) (1.16.0)\n",
            "Requirement already satisfied: cffi>=1.0.1 in /usr/local/lib/python3.11/dist-packages (from argon2-cffi-bindings->argon2-cffi->notebook>=4.4.1->widgetsnbextension~=3.6.0->ipywidgets>=7.6.0->anywidget->ipyaladin) (1.17.1)\n",
            "Requirement already satisfied: soupsieve>1.2 in /usr/local/lib/python3.11/dist-packages (from beautifulsoup4->nbconvert>=5->notebook>=4.4.1->widgetsnbextension~=3.6.0->ipywidgets>=7.6.0->anywidget->ipyaladin) (2.6)\n",
            "Requirement already satisfied: pycparser in /usr/local/lib/python3.11/dist-packages (from cffi>=1.0.1->argon2-cffi-bindings->argon2-cffi->notebook>=4.4.1->widgetsnbextension~=3.6.0->ipywidgets>=7.6.0->anywidget->ipyaladin) (2.22)\n",
            "Requirement already satisfied: anyio>=3.1.0 in /usr/local/lib/python3.11/dist-packages (from jupyter-server<3,>=1.8->notebook-shim>=0.2.3->nbclassic>=0.4.7->notebook>=4.4.1->widgetsnbextension~=3.6.0->ipywidgets>=7.6.0->anywidget->ipyaladin) (4.9.0)\n",
            "Requirement already satisfied: websocket-client in /usr/local/lib/python3.11/dist-packages (from jupyter-server<3,>=1.8->notebook-shim>=0.2.3->nbclassic>=0.4.7->notebook>=4.4.1->widgetsnbextension~=3.6.0->ipywidgets>=7.6.0->anywidget->ipyaladin) (1.8.0)\n",
            "Requirement already satisfied: idna>=2.8 in /usr/local/lib/python3.11/dist-packages (from anyio>=3.1.0->jupyter-server<3,>=1.8->notebook-shim>=0.2.3->nbclassic>=0.4.7->notebook>=4.4.1->widgetsnbextension~=3.6.0->ipywidgets>=7.6.0->anywidget->ipyaladin) (3.10)\n",
            "Requirement already satisfied: sniffio>=1.1 in /usr/local/lib/python3.11/dist-packages (from anyio>=3.1.0->jupyter-server<3,>=1.8->notebook-shim>=0.2.3->nbclassic>=0.4.7->notebook>=4.4.1->widgetsnbextension~=3.6.0->ipywidgets>=7.6.0->anywidget->ipyaladin) (1.3.1)\n",
            "Downloading ipyaladin-0.5.2-py3-none-any.whl (21 kB)\n",
            "Downloading anywidget-0.9.18-py3-none-any.whl (220 kB)\n",
            "\u001b[2K   \u001b[90m━━━━━━━━━━━━━━━━━━━━━━━━━━━━━━━━━━━━━━━━\u001b[0m \u001b[32m220.7/220.7 kB\u001b[0m \u001b[31m9.3 MB/s\u001b[0m eta \u001b[36m0:00:00\u001b[0m\n",
            "\u001b[?25hDownloading psygnal-0.12.0-cp311-cp311-manylinux_2_17_x86_64.manylinux2014_x86_64.whl (765 kB)\n",
            "\u001b[2K   \u001b[90m━━━━━━━━━━━━━━━━━━━━━━━━━━━━━━━━━━━━━━━━\u001b[0m \u001b[32m765.5/765.5 kB\u001b[0m \u001b[31m43.2 MB/s\u001b[0m eta \u001b[36m0:00:00\u001b[0m\n",
            "\u001b[?25hDownloading jedi-0.19.2-py2.py3-none-any.whl (1.6 MB)\n",
            "\u001b[2K   \u001b[90m━━━━━━━━━━━━━━━━━━━━━━━━━━━━━━━━━━━━━━━━\u001b[0m \u001b[32m1.6/1.6 MB\u001b[0m \u001b[31m60.9 MB/s\u001b[0m eta \u001b[36m0:00:00\u001b[0m\n",
            "\u001b[?25hInstalling collected packages: psygnal, jedi, anywidget, ipyaladin\n",
            "Successfully installed anywidget-0.9.18 ipyaladin-0.5.2 jedi-0.19.2 psygnal-0.12.0\n"
          ]
        }
      ]
    },
    {
      "cell_type": "code",
      "execution_count": 6,
      "id": "a6eaeebf",
      "metadata": {
        "id": "a6eaeebf"
      },
      "outputs": [],
      "source": [
        "# Access astronomical databases\n",
        "from pyvo import registry  # version >=1.6\n",
        "\n",
        "# Moc and HEALPix tools\n",
        "from mocpy import MOC\n",
        "\n",
        "# Coordinates manipulation\n",
        "from astropy.coordinates import SkyCoord\n",
        "\n",
        "# Sky visualization\n",
        "from ipyaladin import Aladin  # version >=0.4.0\n",
        "\n",
        "# For plots\n",
        "import matplotlib.pyplot as plt\n"
      ]
    },
    {
      "cell_type": "markdown",
      "id": "7ad7861f",
      "metadata": {
        "id": "7ad7861f"
      },
      "source": [
        "# Welcome to VizieR example workflow\n",
        "\n",
        "[![Vizier](https://custom-icon-badges.demolab.com/badge/Vizier-gray.svg?logo=vizier&logoColor=orange&logoWidth=20)](https://vizier.cds.unistra.fr/viz-bin/VizieR \"https://vizier.cds.unistra.fr/viz-bin/VizieR\")\n",
        "\n",
        "**Notes:**\n",
        "\n",
        "It is a generic notebook, highlighting what can be done once you chose a catalog. This workflow is suggested by [CDS](https://cdsweb.unistra.fr/) (Strasbourg Astronomical Data Center, house of [VizieR](https://vizier.cds.unistra.fr/viz-bin/VizieR)).\n",
        "\n",
        "The notebook exploits [pyVO](https://pyvo.readthedocs.io/en/latest/), an advanced library  of The [Virtual Observatory](https://ivoa.net/).\n",
        "\n",
        "[Astroquery](https://astroquery.readthedocs.io/en/latest/vizier/vizier.html) (not used here) is a well-documented, user-friendly alternative.\n",
        "\n",
        "--------------------------------------------------------\n",
        "\n",
        "## 1. Setup\n",
        "\n",
        "This example notebook has the following dependencies:\n",
        "\n",
        "**Required**\n",
        "- pyvo : this library facilitates the access to the Virtual Observatory (VO) resources. VizieR is part of the VO.\n",
        "This notebook needs version >=1.4.1\n",
        "**Optional, for visualization**\n",
        "- ipyaladin : this is the Aladin-lite sky viewer, bundled as a jupyter widget. It allows to plot catalogs and multi-order coverages (MOC)\n",
        "- matplotlib : an other option to see catalog points and MOCs\n",
        "\n",
        "## 2. Metadata exploration with the Virtual Observatory registry\n",
        "\n",
        "This part uses [pyvo](https://pyvo.readthedocs.io/en) to connect to the VO registry."
      ]
    },
    {
      "cell_type": "code",
      "execution_count": 7,
      "id": "95888801",
      "metadata": {
        "id": "95888801"
      },
      "outputs": [],
      "source": [
        "# the catalogue name in VizieR\n",
        "CATALOGUE = \"J/A+A/616/A10\""
      ]
    },
    {
      "cell_type": "markdown",
      "id": "26ad3c69",
      "metadata": {
        "id": "26ad3c69"
      },
      "source": [
        "We first retrieve the catalogue information."
      ]
    },
    {
      "cell_type": "code",
      "execution_count": 8,
      "id": "6db57e6b",
      "metadata": {
        "id": "6db57e6b"
      },
      "outputs": [],
      "source": [
        "# each resource in the VO has an identifier, called ivoid. For vizier catalogs,\n",
        "# the VO ids can be constructed like this:\n",
        "catalogue_ivoid = f\"ivo://CDS.VizieR/{CATALOGUE}\"\n",
        "# the actual query to the registry\n",
        "voresource = registry.search(ivoid=catalogue_ivoid)[0]"
      ]
    },
    {
      "cell_type": "code",
      "execution_count": 9,
      "id": "f3e975e3",
      "metadata": {
        "colab": {
          "base_uri": "https://localhost:8080/"
        },
        "id": "f3e975e3",
        "outputId": "9acd81d4-4200-4156-c26b-72cfb9f9fbcb"
      },
      "outputs": [
        {
          "output_type": "stream",
          "name": "stdout",
          "text": [
            "46 open clusters GaiaDR2 HR diagrams\n",
            "Short Name: J/A+A/616/A10\n",
            "IVOA Identifier: ivo://cds.vizier/j/a+a/616/a10\n",
            "Access modes: conesearch, tap#aux, web\n",
            "- tap#aux: http://tapvizier.cds.unistra.fr/TAPVizieR/tap\n",
            "- webpage: http://vizier.cds.unistra.fr/viz-bin/VizieR-2?-source=J/A+A/616/A10\n",
            "- conesearch: https://vizier.cds.unistra.fr/viz-\n",
            " bin/conesearch/J/A+A/616/A10/tablea1a?, description: Cone search capability\n",
            " for table J/A+A/616/A10/tablea1a (Stars in nine open clusters within 250pc)\n",
            "- conesearch: https://vizier.cds.unistra.fr/viz-\n",
            " bin/conesearch/J/A+A/616/A10/tablea1b?, description: Cone search capability\n",
            " for table J/A+A/616/A10/tablea1b (Stars in 37 open clusters beyond 250pc)\n",
            "- conesearch: https://vizier.cds.unistra.fr/viz-\n",
            " bin/conesearch/J/A+A/616/A10/tablea3?, description: Cone search capability\n",
            " for table J/A+A/616/A10/tablea3 (Mean parameters for clusters within 250pc)\n",
            "- conesearch: https://vizier.cds.unistra.fr/viz-\n",
            " bin/conesearch/J/A+A/616/A10/tablea4?, description: Cone search capability\n",
            " for table J/A+A/616/A10/tablea4 (Mean parameters for clusters beyond 250pc)\n",
            "\n",
            "Gaia Data Release 2 provides high-precision astrometry and three-band\n",
            "photometry for about 1.3 billion sources over the full sky. The precision,\n",
            "accuracy, and homogeneity of both astrometry and photometry are unprecedented.\n",
            "We highlight the power of the Gaia DR2 in studying many fine structures of the\n",
            "Hertzsprung-Russell diagram (HRD). Gaia allows us to present many different\n",
            "HRDs, depending in particular on stellar population selections. We do not aim\n",
            "here for completeness in terms of types of stars or stellar evolutionary\n",
            "aspects. Instead, we have chosen several illustrative examples. We describe\n",
            "some of the selections that can be made in Gaia DR2 to highlight the main\n",
            "structures of the Gaia HRDs. We select both field and cluster (open and\n",
            "globular) stars, compare the observations with previous classifications and\n",
            "with stellar evolutionary tracks, and we present variations of the Gaia HRD\n",
            "with age, metallicity, and kinematics. Late stages of stellar evolution such\n",
            "as hot subdwarfs, post-AGB stars, planetary nebulae, and white dwarfs are also\n",
            "analysed, as well as low-mass brown dwarf objects. The Gaia HRDs are\n",
            "unprecedented in both precision and coverage of the various Milky Way stellar\n",
            "populations and stellar evolutionary phases. Many fine structures of the HRDs\n",
            "are presented. The clear split of the white dwarf sequence into hydrogen and\n",
            "helium white dwarfs is presented for the first time in an HRD. The relation\n",
            "between kinematics and the HRD is nicely illustrated. Two different\n",
            "populations in a classical kinematic selection of the halo are unambiguously\n",
            "identified in the HRD. Membership and mean parameters for a selected list of\n",
            "open clusters are provided. They allow drawing very detailed cluster\n",
            "sequences, highlighting fine structures, and providing extremely precise\n",
            "empirical isochrones that will lead to more insight in stellar physics. Gaia\n",
            "DR2 demonstrates the potential of combining precise astrometry and photometry\n",
            "for large samples for studies in stellar evolution and stellar population and\n",
            "opens an entire new area for HRD-based studies.\n",
            "\n",
            "Waveband Coverage: optical\n",
            "\n",
            "Source: 2018A&A...616A..10G\n",
            "Authors: Gaia Collaboration,  Babusiaux C.,  van Leeuwen F.,  Barstow,  M. A.,Jordi C. et al.\n",
            "See creators attribute for the complete list of authors.\n",
            "Alternative identifier(s): doi:10.26093/cds/vizier.36160010\n",
            "More info: https://cdsarc.cds.unistra.fr/viz-bin/cat/J/A+A/616/A10\n"
          ]
        }
      ],
      "source": [
        "# We can print metadata information about the catalogue\n",
        "voresource.describe(verbose=True)"
      ]
    },
    {
      "cell_type": "markdown",
      "id": "bd2a7ae3",
      "metadata": {
        "id": "bd2a7ae3"
      },
      "source": [
        "We can also inspect in details the `resource` object and access the attributes not provided by the describe method. See for example, the first author of a resource:"
      ]
    },
    {
      "cell_type": "code",
      "execution_count": 10,
      "id": "f5a53605",
      "metadata": {
        "colab": {
          "base_uri": "https://localhost:8080/",
          "height": 35
        },
        "id": "f5a53605",
        "outputId": "179e7562-3614-4a01-fecc-d60316d3c4ff"
      },
      "outputs": [
        {
          "output_type": "execute_result",
          "data": {
            "text/plain": [
              "'Gaia Collaboration'"
            ],
            "application/vnd.google.colaboratory.intrinsic+json": {
              "type": "string"
            }
          },
          "metadata": {},
          "execution_count": 10
        }
      ],
      "source": [
        "voresource.creators[0]"
      ]
    },
    {
      "cell_type": "markdown",
      "id": "5a457510",
      "metadata": {
        "id": "5a457510"
      },
      "source": [
        "## 3. Access the tabular data of this catalog\n",
        "\n",
        "We can have a look at the tables available in the catalogue."
      ]
    },
    {
      "cell_type": "code",
      "execution_count": 11,
      "id": "92ebe10f",
      "metadata": {
        "colab": {
          "base_uri": "https://localhost:8080/"
        },
        "id": "92ebe10f",
        "outputId": "4c2df8a0-3308-4257-d3fe-cc71cc7aef51"
      },
      "outputs": [
        {
          "output_type": "stream",
          "name": "stderr",
          "text": [
            "WARNING: W02: ?:?:?: W02: '' is not a valid datatype according to the VOSI spec [pyvo.io.vosi.vodataservice]\n",
            "WARNING:astropy:W02: ?:?:?: W02: '' is not a valid datatype according to the VOSI spec\n"
          ]
        },
        {
          "output_type": "stream",
          "name": "stdout",
          "text": [
            "In this catalogue, we have 4 tables.\n",
            "J/A+A/616/A10/tablea1a: Stars in nine open clusters within 250pc\n",
            "J/A+A/616/A10/tablea1b: Stars in 37 open clusters beyond 250pc\n",
            "J/A+A/616/A10/tablea3: Mean parameters for clusters within 250pc\n",
            "J/A+A/616/A10/tablea4: Mean parameters for clusters beyond 250pc\n"
          ]
        }
      ],
      "source": [
        "tables = voresource.get_tables()\n",
        "print(f\"In this catalogue, we have {len(tables)} tables.\")\n",
        "for table_name, table in tables.items():\n",
        "    print(f\"{table_name}: {table.description}\")"
      ]
    },
    {
      "cell_type": "code",
      "execution_count": 12,
      "id": "81514878",
      "metadata": {
        "colab": {
          "base_uri": "https://localhost:8080/"
        },
        "id": "81514878",
        "outputId": "5dcd777e-f109-4ce1-e2d0-dc8797da6f4f"
      },
      "outputs": [
        {
          "output_type": "execute_result",
          "data": {
            "text/plain": [
              "['J/A+A/616/A10/tablea1a',\n",
              " 'J/A+A/616/A10/tablea1b',\n",
              " 'J/A+A/616/A10/tablea3',\n",
              " 'J/A+A/616/A10/tablea4']"
            ]
          },
          "metadata": {},
          "execution_count": 12
        }
      ],
      "source": [
        "# We can also extract the tables names for later use\n",
        "tables_names = list(tables.keys())\n",
        "tables_names"
      ]
    },
    {
      "cell_type": "markdown",
      "id": "eedac527",
      "metadata": {
        "id": "eedac527"
      },
      "source": [
        "The actual data can then be accessed using any of the ``access_modes`` of the voresource."
      ]
    },
    {
      "cell_type": "code",
      "execution_count": 13,
      "id": "32db444e",
      "metadata": {
        "colab": {
          "base_uri": "https://localhost:8080/"
        },
        "id": "32db444e",
        "outputId": "afbf9a8f-5b2d-48b5-aa6b-f1bfb70fb8a6"
      },
      "outputs": [
        {
          "output_type": "execute_result",
          "data": {
            "text/plain": [
              "{'conesearch', 'tap#aux', 'web'}"
            ]
          },
          "metadata": {},
          "execution_count": 13
        }
      ],
      "source": [
        "voresource.access_modes()"
      ]
    },
    {
      "cell_type": "markdown",
      "id": "4a7dd42f",
      "metadata": {
        "id": "4a7dd42f"
      },
      "source": [
        "The web access is found by following the ``reference_url``"
      ]
    },
    {
      "cell_type": "code",
      "execution_count": 14,
      "id": "545f9bf8",
      "metadata": {
        "colab": {
          "base_uri": "https://localhost:8080/",
          "height": 35
        },
        "id": "545f9bf8",
        "outputId": "da0c453f-5c36-433d-e121-6e5511c1d8ee"
      },
      "outputs": [
        {
          "output_type": "execute_result",
          "data": {
            "text/plain": [
              "'https://cdsarc.cds.unistra.fr/viz-bin/cat/J/A+A/616/A10'"
            ],
            "application/vnd.google.colaboratory.intrinsic+json": {
              "type": "string"
            }
          },
          "metadata": {},
          "execution_count": 14
        }
      ],
      "source": [
        "voresource.reference_url"
      ]
    },
    {
      "cell_type": "markdown",
      "id": "abee6ce7",
      "metadata": {
        "id": "abee6ce7"
      },
      "source": [
        "### 3.1 Execute a SQL/ADQL query\n",
        "\n",
        "The ``tap#aux`` in the ``access_mode`` response indicates that we can also do a SQL/ADQL query for these VizieR tables.\n",
        "\n",
        "On the first table of the catalogue, we execute an <a href='https://www.ivoa.net/documents/latest/ADQL.html'>ADQL</a> query."
      ]
    },
    {
      "cell_type": "code",
      "execution_count": 15,
      "id": "3a8b8d60",
      "metadata": {
        "colab": {
          "base_uri": "https://localhost:8080/"
        },
        "id": "3a8b8d60",
        "outputId": "a6e2f56a-91e8-4b8f-eae1-e67968d95253"
      },
      "outputs": [
        {
          "output_type": "execute_result",
          "data": {
            "text/plain": [
              "<DALResultsTable length=10>\n",
              "recno       Source      Cluster  RAdeg    DEdeg     Gmag    plx    e_plx    _RA      _DE   \n",
              "                                  deg      deg      mag     mas     mas     deg      deg   \n",
              "int32       int64        object float64  float64  float64 float64 float64 float64  float64 \n",
              "----- ----------------- ------- -------- -------- ------- ------- ------- -------- --------\n",
              "  254 36629890579758592  Hyades 58.14384 11.26075  12.626  28.593   0.012 58.14306 11.26079\n",
              "  494 38329666836450304  Hyades 59.56042 12.62797  15.111  21.914   0.046 59.55985 12.62802\n",
              "  493 38354680725946240  Hyades 58.75658 12.48554   9.766  21.715   0.015 58.75601 12.48559\n",
              "  503 38670343642226816  Hyades 58.44438 13.39193  14.832  24.163   0.025 58.44372 13.39199\n",
              "  504 38929141191925760  Hyades 60.18786 13.90626   13.33  21.594   0.065  60.1873 13.90633\n",
              "  394 39305036729495936  Hyades   60.926 14.99122  15.039    24.1   0.041 60.92537 14.99133\n",
              "  495 40470720915966208  Hyades 58.72235 16.31552  12.957  22.551   0.112 58.72175 16.31562\n",
              "  492 42716408993806080  Hyades 53.14434 16.15326  12.981  20.568   0.058 53.14371 16.15333\n",
              "  429 43538293935879680  Hyades 58.77775 16.99837   8.735  24.398    0.03 58.77709 16.99848\n",
              "  430 43615122310787840  Hyades 58.29251 17.32696   5.868  23.133   0.057 58.29186 17.32709"
            ]
          },
          "metadata": {},
          "execution_count": 15
        }
      ],
      "source": [
        "# get the first table of the catalogue\n",
        "first_table_name = tables_names[0]\n",
        "\n",
        "# execute a synchronous ADQL query\n",
        "tap_service = voresource.get_service(\"tap\")\n",
        "tap_records = tap_service.search(\n",
        "    f'select TOP 10 * from \"{first_table_name}\"',\n",
        ")\n",
        "tap_records"
      ]
    },
    {
      "cell_type": "markdown",
      "id": "80157f1b",
      "metadata": {
        "id": "80157f1b"
      },
      "source": [
        "<!-- section position -->\n",
        "\n",
        "We will explore the other access modes here.\n",
        "\n",
        "### 3.2. Execute a cone search query\n",
        "\n",
        "We use the Simple Cone Search (<a href='https://www.ivoa.net/documents/latest/ConeSearch.html'>SCS</a>) protocol of the virtual observatory (only available for tables with positions).\n",
        "\n",
        "Finding the conesearch service that you want to use (there is usually one per table):"
      ]
    },
    {
      "cell_type": "markdown",
      "id": "f11fb741",
      "metadata": {
        "id": "f11fb741"
      },
      "source": [
        "Let's use the first one for this example."
      ]
    },
    {
      "cell_type": "code",
      "execution_count": 19,
      "id": "4515d133",
      "metadata": {
        "colab": {
          "base_uri": "https://localhost:8080/",
          "height": 341
        },
        "id": "4515d133",
        "outputId": "6b1406c9-499a-439b-e984-2d8be18d8b8b"
      },
      "outputs": [
        {
          "output_type": "error",
          "ename": "IndexError",
          "evalue": "list index out of range",
          "traceback": [
            "\u001b[0;31m---------------------------------------------------------------------------\u001b[0m",
            "\u001b[0;31mIndexError\u001b[0m                                Traceback (most recent call last)",
            "\u001b[0;32m<ipython-input-19-7f3343ce5b6a>\u001b[0m in \u001b[0;36m<cell line: 0>\u001b[0;34m()\u001b[0m\n\u001b[1;32m      1\u001b[0m \u001b[0;31m# we get the conesearch  service associated to the first table\u001b[0m\u001b[0;34m\u001b[0m\u001b[0;34m\u001b[0m\u001b[0m\n\u001b[0;32m----> 2\u001b[0;31m conesearch_interface = voresource.get_interface(service_type='conesearch', \n\u001b[0m\u001b[1;32m      3\u001b[0m                                                 \u001b[0mkeyword\u001b[0m\u001b[0;34m=\u001b[0m\u001b[0;34m'J/A+A/616/A108/catalog'\u001b[0m\u001b[0;34m,\u001b[0m\u001b[0;34m\u001b[0m\u001b[0;34m\u001b[0m\u001b[0m\n\u001b[1;32m      4\u001b[0m                                                 lax=True)\n\u001b[1;32m      5\u001b[0m \u001b[0;31m# if you get a TypeError about an unexpected keyword, check that you installed pyvo>=1.6\u001b[0m\u001b[0;34m\u001b[0m\u001b[0;34m\u001b[0m\u001b[0m\n",
            "\u001b[0;32m/usr/local/lib/python3.11/dist-packages/pyvo/registry/regtap.py\u001b[0m in \u001b[0;36mget_interface\u001b[0;34m(self, service_type, lax, std_only, keyword)\u001b[0m\n\u001b[1;32m    808\u001b[0m                              \" with `pyvo.registry.regtap.RegistryResource.list_interfaces()`.\")\n\u001b[1;32m    809\u001b[0m \u001b[0;34m\u001b[0m\u001b[0m\n\u001b[0;32m--> 810\u001b[0;31m         \u001b[0;32mreturn\u001b[0m \u001b[0mcandidates\u001b[0m\u001b[0;34m[\u001b[0m\u001b[0;36m0\u001b[0m\u001b[0;34m]\u001b[0m\u001b[0;34m\u001b[0m\u001b[0;34m\u001b[0m\u001b[0m\n\u001b[0m\u001b[1;32m    811\u001b[0m \u001b[0;34m\u001b[0m\u001b[0m\n\u001b[1;32m    812\u001b[0m     def get_service(self, service_type: str = None, *,\n",
            "\u001b[0;31mIndexError\u001b[0m: list index out of range"
          ]
        }
      ],
      "source": [
        "# we get the conesearch  service associated to the first table\n",
        "conesearch_interface = voresource.get_interface(service_type='conesearch',\n",
        "                                                keyword='J/A+A/616/A108/catalog',\n",
        "                                                lax=True)\n",
        "# if you get a TypeError about an unexpected keyword, check that you installed pyvo>=1.6\n",
        "conesearch_service = conesearch_interface.to_service()"
      ]
    },
    {
      "cell_type": "markdown",
      "id": "ceaefcb5",
      "metadata": {
        "id": "ceaefcb5"
      },
      "source": [
        "We adapt the radius and position of the center to our needs:"
      ]
    },
    {
      "cell_type": "code",
      "execution_count": 17,
      "id": "39b1153b",
      "metadata": {
        "id": "39b1153b"
      },
      "outputs": [],
      "source": [
        "conesearch_radius = 1 / 60.0  # in degrees\n",
        "conesearch_center = (58.161621, 11.262980)"
      ]
    },
    {
      "cell_type": "code",
      "execution_count": 18,
      "id": "8f34d3fd",
      "metadata": {
        "colab": {
          "base_uri": "https://localhost:8080/",
          "height": 216
        },
        "id": "8f34d3fd",
        "outputId": "5f0895a5-39ed-4f62-e4ee-dd7ecab46d8a"
      },
      "outputs": [
        {
          "output_type": "error",
          "ename": "NameError",
          "evalue": "name 'conesearch_service' is not defined",
          "traceback": [
            "\u001b[0;31m---------------------------------------------------------------------------\u001b[0m",
            "\u001b[0;31mNameError\u001b[0m                                 Traceback (most recent call last)",
            "\u001b[0;32m<ipython-input-18-b77a1df9d62b>\u001b[0m in \u001b[0;36m<cell line: 0>\u001b[0;34m()\u001b[0m\n\u001b[0;32m----> 1\u001b[0;31m conesearch_records = conesearch_service.search(\n\u001b[0m\u001b[1;32m      2\u001b[0m     \u001b[0mpos\u001b[0m\u001b[0;34m=\u001b[0m\u001b[0mconesearch_center\u001b[0m\u001b[0;34m,\u001b[0m\u001b[0;34m\u001b[0m\u001b[0;34m\u001b[0m\u001b[0m\n\u001b[1;32m      3\u001b[0m     \u001b[0msr\u001b[0m\u001b[0;34m=\u001b[0m\u001b[0mconesearch_radius\u001b[0m\u001b[0;34m,\u001b[0m\u001b[0;34m\u001b[0m\u001b[0;34m\u001b[0m\u001b[0m\n\u001b[1;32m      4\u001b[0m )\n\u001b[1;32m      5\u001b[0m \u001b[0mconesearch_records\u001b[0m\u001b[0;34m\u001b[0m\u001b[0;34m\u001b[0m\u001b[0m\n",
            "\u001b[0;31mNameError\u001b[0m: name 'conesearch_service' is not defined"
          ]
        }
      ],
      "source": [
        "conesearch_records = conesearch_service.search(\n",
        "    pos=conesearch_center,\n",
        "    sr=conesearch_radius,\n",
        ")\n",
        "conesearch_records"
      ]
    },
    {
      "cell_type": "markdown",
      "id": "d1df2200",
      "metadata": {
        "id": "d1df2200"
      },
      "source": [
        "## 4. Get the catalogue coverage\n",
        "\n",
        "VizieR also provides the coverage of each catalogue with Multiple Order Coverage (<a href='https://ivoa.net/documents/MOC/'>MOC</a>) at order 10 -- meaning with a 0.001 rad spacial resolution."
      ]
    },
    {
      "cell_type": "code",
      "execution_count": 20,
      "id": "b532da7e",
      "metadata": {
        "colab": {
          "base_uri": "https://localhost:8080/",
          "height": 285
        },
        "id": "b532da7e",
        "outputId": "7fdaad05-1f81-464f-e504-621c67fd4f1a"
      },
      "outputs": [
        {
          "output_type": "display_data",
          "data": {
            "text/plain": [
              "<Figure size 640x480 with 1 Axes>"
            ],
            "image/png": "[encoded data removed]"
          },
          "metadata": {}
        }
      ],
      "source": [
        "# retrieve the MOC\n",
        "catalogue_coverage = MOC.from_vizier_table(CATALOGUE)\n",
        "catalogue_coverage.display_preview()"
      ]
    },
    {
      "cell_type": "markdown",
      "id": "a8273b53",
      "metadata": {
        "id": "a8273b53"
      },
      "source": [
        "The quick preview is the whole sky in equatorial coordinates. Red represent zones where the catalog has data, black areas are empty zones.\n",
        "\n",
        "We can also plot the coverage with ``matplotlib``."
      ]
    },
    {
      "cell_type": "code",
      "execution_count": 21,
      "id": "f47e09e2",
      "metadata": {
        "colab": {
          "base_uri": "https://localhost:8080/",
          "height": 422
        },
        "id": "f47e09e2",
        "outputId": "d5fa4bf7-4710-49f9-f324-96b3fc467c53"
      },
      "outputs": [
        {
          "output_type": "display_data",
          "data": {
            "text/plain": [
              "<Figure size 500x500 with 1 Axes>"
            ],
            "image/png": "[encoded data removed]"
          },
          "metadata": {}
        }
      ],
      "source": [
        "fig = plt.figure(figsize=(5, 5))\n",
        "wcs = catalogue_coverage.wcs(fig)\n",
        "ax = fig.add_subplot(projection=wcs)\n",
        "catalogue_coverage.fill(ax=ax, wcs=wcs, alpha=0.5, color=\"blue\")"
      ]
    },
    {
      "cell_type": "markdown",
      "id": "adad9fc7",
      "metadata": {
        "id": "adad9fc7"
      },
      "source": [
        "or with [ipyaladin](https://github.com/cds-astro/ipyaladin)"
      ]
    },
    {
      "cell_type": "code",
      "execution_count": 22,
      "id": "53840a2b",
      "metadata": {
        "colab": {
          "base_uri": "https://localhost:8080/",
          "height": 562,
          "referenced_widgets": [
            "976e76cbb23a4368b0fd32277e0a56cb",
            "da09f7c4283d44d3a92cc44fae17fefd"
          ]
        },
        "id": "53840a2b",
        "outputId": "a534f49d-2e6e-407b-b399-826c1fa8127c"
      },
      "outputs": [
        {
          "output_type": "stream",
          "name": "stderr",
          "text": [
            "/usr/local/lib/python3.11/dist-packages/ipywidgets/widgets/widget.py:672: DeprecationWarning: Deprecated in traitlets 4.1, use the instance .metadata dictionary directly, like x.metadata[key] or x.metadata.get(key, default)\n",
            "  if trait.get_metadata('sync'):\n",
            "<frozen importlib._bootstrap>:1047: ImportWarning: _PyDrive2ImportHook.find_spec() not found; falling back to find_module()\n",
            "<frozen importlib._bootstrap>:1047: ImportWarning: _PyDriveImportHook.find_spec() not found; falling back to find_module()\n",
            "<frozen importlib._bootstrap>:1047: ImportWarning: _GenerativeAIImportHook.find_spec() not found; falling back to find_module()\n",
            "<frozen importlib._bootstrap>:1047: ImportWarning: _OpenCVImportHook.find_spec() not found; falling back to find_module()\n",
            "<frozen importlib._bootstrap>:1047: ImportWarning: _BokehImportHook.find_spec() not found; falling back to find_module()\n"
          ]
        },
        {
          "output_type": "display_data",
          "data": {
            "text/plain": [
              "Aladin()"
            ],
            "application/vnd.jupyter.widget-view+json": {
              "version_major": 2,
              "version_minor": 0,
              "model_id": "976e76cbb23a4368b0fd32277e0a56cb"
            }
          },
          "metadata": {
            "application/vnd.jupyter.widget-view+json": {
              "colab": {
                "custom_widget_manager": {
                  "url": "https://ssl.gstatic.com/colaboratory-static/widgets/colab-cdn-widget-manager/2b70e893a8ba7c0f/manager.min.js"
                }
              }
            }
          }
        }
      ],
      "source": [
        "aladin = Aladin()\n",
        "aladin"
      ]
    },
    {
      "cell_type": "markdown",
      "id": "17465387",
      "metadata": {
        "id": "17465387"
      },
      "source": [
        "We switch the target to the center of the conesearch"
      ]
    },
    {
      "cell_type": "code",
      "execution_count": null,
      "id": "d550ccf4",
      "metadata": {
        "id": "d550ccf4"
      },
      "outputs": [],
      "source": [
        "aladin.target = \"58.161621 +11.262980\""
      ]
    },
    {
      "cell_type": "markdown",
      "id": "de738e90-b34b-4818-a6e6-2d07c9b4c2c2",
      "metadata": {
        "id": "de738e90-b34b-4818-a6e6-2d07c9b4c2c2"
      },
      "source": [
        "We can add the tables and coverage in this ipyaladin widget:"
      ]
    },
    {
      "cell_type": "code",
      "execution_count": null,
      "id": "52e6635c-2500-4c49-930b-35a08b36caa0",
      "metadata": {
        "id": "52e6635c-2500-4c49-930b-35a08b36caa0"
      },
      "outputs": [],
      "source": [
        "aladin.add_table(conesearch_records.to_table(), color=\"lightskyblue\", shape=\"plus\")"
      ]
    },
    {
      "cell_type": "markdown",
      "id": "4f39955a",
      "metadata": {
        "id": "4f39955a"
      },
      "source": [
        "If you don't see the points from the conesearch result, try zooming in the widget with your mouse wheel.\n",
        "\n",
        "We can also add the result of the TAP query:"
      ]
    },
    {
      "cell_type": "code",
      "execution_count": null,
      "id": "3f55e7d1-bf38-4b7d-a73b-567f9b256f85",
      "metadata": {
        "id": "3f55e7d1-bf38-4b7d-a73b-567f9b256f85"
      },
      "outputs": [],
      "source": [
        "aladin.add_table(tap_records.to_table())"
      ]
    },
    {
      "cell_type": "code",
      "execution_count": null,
      "id": "097a4505-5417-4dd3-9032-d75a76fa7c5c",
      "metadata": {
        "id": "097a4505-5417-4dd3-9032-d75a76fa7c5c"
      },
      "outputs": [],
      "source": [
        "aladin.add_moc(\n",
        "    catalogue_coverage,\n",
        "    fill=True, opacity=0.5, color=\"pink\", edge=True\n",
        ")"
      ]
    },
    {
      "cell_type": "markdown",
      "id": "065588dd",
      "metadata": {
        "id": "065588dd"
      },
      "source": [
        "For more information about manipulating multi-order coverages, see [MOCpy documentation](https://cds-astro.github.io/mocpy/), and about using the `ipyaladin` widget, see [its documentation](https://cds-astro.github.io/ipyaladin/)."
      ]
    }
  ],
  "metadata": {
    "language_info": {
      "name": "python"
    },
    "colab": {
      "provenance": [],
      "include_colab_link": true
    },
    "kernelspec": {
      "name": "python3",
      "display_name": "Python 3"
    },
    "widgets": {
      "application/vnd.jupyter.widget-state+json": {
        "976e76cbb23a4368b0fd32277e0a56cb": {
          "model_module": "anywidget",
          "model_name": "AnyModel",
          "model_module_version": "~0.9.*",
          "state": {
            "_anywidget_id": "ipyaladin.widget.Aladin",
            "_base_layer_last_view": "P/DSS2/color",
            "_css": ".cell-output-ipywidget-background{background:transparent}.jp-OutputArea-output,.aladin-widget{background-color:transparent}.aladin-widget .aladin-measurement-div{max-height:100px}\n",
            "_dom_classes": [],
            "_esm": "function v(n){n.charAt(0)===\"_\"&&(n=n.slice(1));let e=n.split(\"_\");for(let a=1;a<e.length;a++)e[a]=e[a].charAt(0).toUpperCase()+e[a].slice(1);return e.join(\"\")}function h(n){let e={};for(let a in n)e[v(a)]=n[a];return e}var m=class{locked=!1;unlock(){this.locked=!1}lock(){this.locked=!0}},g=-1;function f(n){g=n}function _(n,e){n==-1?e.style.height=\"100%\":e.style.height=`${n}px`}import y from\"https://esm.sh/aladin-lite@3.5.1-beta\";var r=y;var b=0,p=class{constructor(e,a){this.aladin=e,this.model=a}handleAddMarker(e){let a=h(e.options||{});a.name||(a.name=\"markers\");let s=r.catalog(a);this.aladin.addCatalog(s);let i=e.markers,t=[];for(let o of i)t.push(r.marker(o.lon,o.lat,{useMarkerDefaultIcon:a.useMarkerDefaultIcon|!1,popupTitle:o.title,popupDesc:o.description}));s.addSources(t)}handleChangeFoV(e){this.aladin.setFoV(e.fov)}handleGotoRaDec(e){this.aladin.gotoRaDec(e.ra,e.dec)}async handleSaveViewAsImage(e){let a=e.path,s=e.format,i=e.with_logo,t=await this.aladin.getViewData(\"arraybuffer\",`image/${s}`,i);this.model.send({event_type:\"save_view_as_image\",path:a},null,[t])}handleAddFits(e,a){let s=h(e.options||{});s.name||(s.name=`image_${String(++b).padStart(3,\"0\")}`);let i=a[0],t=new Blob([i],{type:\"application/octet-stream\"}),o=URL.createObjectURL(t),d=this.aladin.createImageFITS(o,s,(c,l)=>{this.aladin.gotoRaDec(c,l),console.info(`FITS located at ra: ${c}, dec: ${l}`),URL.revokeObjectURL(o)});this.aladin.setOverlayImageLayer(d,s.name)}handleAddCatalogFromURL(e){let a=h(e.options||{});this.aladin.addCatalog(r.catalogFromURL(e.votable_URL,a))}handleAddMOCFromURL(e){let a=h(e.options||{});this.aladin.addMOC(r.MOCFromURL(e.moc_URL,a))}handleAddMOCFromDict(e){let a=h(e.options||{});this.aladin.addMOC(r.MOCFromJSON(e.moc_dict,a))}handleAddOverlay(e){let a=e.regions_infos,s=h(e.graphic_options||{});s.color||(s.color=\"red\");let i=r.graphicOverlay(s);this.aladin.addOverlay(i);for(let t of a){let o=t.infos;switch(t.region_type){case\"stcs\":i.addFootprints(r.footprintsFromSTCS(o.stcs,t.options));break;case\"circle\":i.add(r.circle(o.ra,o.dec,o.radius,t.options));break;case\"ellipse\":i.add(r.ellipse(o.ra,o.dec,o.a,o.b,o.theta,t.options));break;case\"line\":t.options.lineWidth=t.options.lineWidth||3,i.add(r.vector(o.ra1,o.dec1,o.ra2,o.dec2,t.options));break;case\"polygon\":i.add(r.polygon(o.vertices,t.options));break}}}handleChangeColormap(e){this.aladin.getBaseImageLayer().setColormap(e.colormap)}handleGetJPGThumbnail(){this.aladin.exportAsPNG()}handleTriggerSelection(e){let a=e.selection_type;a===\"rectangle\"?a=\"rect\":a===\"polygon\"&&(a=\"poly\"),this.aladin.select(a)}handleAddTable(e,a){let s=h(e.options||{}),i=a[0].buffer,t=new TextDecoder(\"utf-8\"),o=new Blob([t.decode(i)]),d=URL.createObjectURL(o);r.catalogFromURL(d,Object.assign(s,{onClick:\"showTable\"}),c=>{this.aladin.addCatalog(c)},!1),URL.revokeObjectURL(d)}};var u=class{constructor(e,a,s){this.aladin=e,this.aladinDiv=a,this.model=s,this.messageHandler=new p(e,s),this.currentDivNumber=parseInt(a.id.split(\"-\").pop())}isLastDiv(){if(this.currentDivNumber===g)return!0;let e=g;for(let a=e;a>=0;a--){let s=document.getElementById(`aladin-lite-div-${a}`);if(s&&s.style.display!==\"none\"){e=a;break}}return f(e),this.currentDivNumber===e}updateWCS(){this.isLastDiv()&&this.model.set(\"_wcs\",this.aladin.getViewWCS())}update2AxisFoV(){if(!this.isLastDiv())return;let e=this.aladin.getFov();this.model.set(\"_fov_xy\",{x:e[0],y:e[1]})}subscribeAll(){let e=new m,a=new m;this.aladin.on(\"positionChanged\",t=>{if(a.locked){a.unlock();return}e.lock();let o=[t.ra,t.dec];this.updateWCS(),this.model.set(\"_target\",`${o[0]} ${o[1]}`),this.model.save_changes()}),this.model.on(\"change:_target\",()=>{if(e.locked){e.unlock();return}a.lock();let t=this.model.get(\"_target\"),[o,d]=t.split(\" \");this.aladin.gotoRaDec(o,d)});let s=new m,i=new m;this.aladin.on(\"zoomChanged\",t=>{if(i.locked){i.unlock();return}s.lock(),this.updateWCS(),this.update2AxisFoV(),this.model.set(\"_fov\",parseFloat(t.toFixed(5))),this.model.save_changes()}),this.model.on(\"change:_fov\",()=>{if(s.locked){s.unlock();return}i.lock();let t=this.model.get(\"_fov\");this.aladin.setFoV(t)}),this.model.on(\"change:_height\",()=>{_(this.model.get(\"_height\"),this.aladinDiv),this.updateWCS(),this.update2AxisFoV(),this.model.save_changes()}),this.aladin.on(\"cooFrameChanged\",()=>{this.updateWCS(),this.model.save_changes()}),this.aladin.on(\"projectionChanged\",()=>{this.updateWCS(),this.model.save_changes()}),this.aladin.on(\"layerChanged\",(t,o,d)=>{o===\"base\"&&this.model.set(\"_survey_body\",t.hipsBody||\"sky\"),!(o!==\"base\"||d!==\"ADDED\")&&(this.updateWCS(),this.model.set(\"_base_layer_last_view\",t.id),this.model.save_changes())}),this.aladin.on(\"resizeChanged\",(t,o)=>{if(t===1&&o===1){this.model.set(\"_is_reduced\",!0),this.model.save_changes();return}else this.model.set(\"_is_reduced\",!1);this.updateWCS(),this.update2AxisFoV(),this.model.set(\"_height\",o),this.model.save_changes()}),this.aladin.on(\"objectHovered\",t=>{t.data!==void 0&&this.model.send({event_type:\"object_hovered\",content:{ra:t.ra,dec:t.dec}})}),this.aladin.on(\"objectClicked\",t=>{if(t){let o={ra:t.ra,dec:t.dec};t.data!==void 0&&(o.data=t.data),this.model.set(\"clicked_object\",o),this.model.send({event_type:\"object_clicked\",content:o}),this.model.save_changes()}}),this.aladin.on(\"click\",t=>{this.model.send({event_type:\"click\",content:t})}),this.aladin.on(\"select\",t=>{let o=t.map(c=>c.map(l=>({ra:l.ra,dec:l.dec,data:l.data,x:l.x,y:l.y})));this.model.set(\"_selected_objects\",o),this.model.save_changes();let d=[];t.forEach(c=>{c.forEach(l=>{d.push({ra:l.ra,dec:l.dec,data:l.data,x:l.x,y:l.y})})}),this.model.send({event_type:\"select\",content:d})}),this.model.on(\"change:coo_frame\",()=>{this.aladin.setFrame(this.model.get(\"coo_frame\"))}),this.model.on(\"change:survey\",()=>{this.aladin.setImageSurvey(this.model.get(\"survey\"))}),this.model.on(\"change:overlay_survey\",()=>{this.aladin.setOverlayImageLayer(this.model.get(\"overlay_survey\"))}),this.model.on(\"change:overlay_survey_opacity\",()=>{this.aladin.getOverlayImageLayer().setAlpha(this.model.get(\"overlay_survey_opacity\"))}),this.eventHandlers={add_marker:this.messageHandler.handleAddMarker,change_fov:this.messageHandler.handleChangeFoV,goto_ra_dec:this.messageHandler.handleGotoRaDec,save_view_as_image:this.messageHandler.handleSaveViewAsImage,add_fits:this.messageHandler.handleAddFits,add_catalog_from_URL:this.messageHandler.handleAddCatalogFromURL,add_MOC_from_URL:this.messageHandler.handleAddMOCFromURL,add_MOC_from_dict:this.messageHandler.handleAddMOCFromDict,add_overlay:this.messageHandler.handleAddOverlay,change_colormap:this.messageHandler.handleChangeColormap,get_JPG_thumbnail:this.messageHandler.handleGetJPGThumbnail,trigger_selection:this.messageHandler.handleTriggerSelection,add_table:this.messageHandler.handleAddTable},this.model.on(\"msg:custom\",(t,o)=>{let d=t.event_name,c=this.eventHandlers[d];if(c)c.call(this,t,o);else throw new Error(`Unknown event name: ${d}`)})}unsubscribeAll(){this.model.off(\"change:_target\"),this.model.off(\"change:_fov\"),this.model.off(\"change:_height\"),this.model.off(\"change:coo_frame\"),this.model.off(\"change:survey\"),this.model.off(\"change:overlay_survey\"),this.model.off(\"change:overlay_survey_opacity\"),this.model.off(\"change:trigger_event\"),this.model.off(\"msg:custom\")}};function C(n,e){f(g+1);let a=n.get(\"_init_options\"),s={};for(let l in a)s[v(l)]=a[l];let i=document.createElement(\"div\");i.classList.add(\"aladin-widget\"),_(n.get(\"_height\"),i),i.id=`aladin-lite-div-${g}`;let t=new r.aladin(i,s);e.appendChild(i);let o=n.get(\"_target\").split(\" \");t.gotoRaDec(o[0],o[1]);let d={...t.getFov()};n.set(\"_fov_xy\",{x:d[0],y:d[1]});let c={...t.getViewWCS()};return n.set(\"_wcs\",c),n.set(\"_is_loaded\",!0),n.save_changes(),{aladin:t,aladinDiv:i}}async function k({model:n}){await r.init}function w({model:n,el:e}){let{aladin:a,aladinDiv:s}=C(n,e),i=new u(a,s,n);return i.subscribeAll(),()=>{i.unsubscribeAll()}}var W={initialize:k,render:w};export{W as default};\n",
            "_fov": 179.99878,
            "_fov_xy": {
              "x": 179.99877513572864,
              "y": 54.710873901437274
            },
            "_height": 400,
            "_init_options": {
              "show_simbad_pointer_control": true,
              "show_coo_grid_control": true,
              "show_settings_control": true,
              "show_context_menu": true
            },
            "_is_loaded": true,
            "_is_reduced": false,
            "_model_module": "anywidget",
            "_model_module_version": "~0.9.*",
            "_model_name": "AnyModel",
            "_ready": false,
            "_selected_objects": [],
            "_survey_body": "sky",
            "_target": "166.27927996658303 20.315586247158507",
            "_view_count": null,
            "_view_module": "anywidget",
            "_view_module_version": "~0.9.*",
            "_view_name": "AnyView",
            "_wcs": {
              "NAXIS": 2,
              "NAXIS1": 1316,
              "NAXIS2": 400,
              "CRPIX1": 658.5,
              "CRPIX2": 200.5,
              "CRVAL1": 166.27927996658303,
              "CRVAL2": 20.315586247158507,
              "CTYPE1": "RA---SIN",
              "CTYPE2": "DEC--SIN",
              "CUNIT1": "deg     ",
              "CUNIT2": "deg     ",
              "CDELT1": -0.13677718475359318,
              "CDELT2": 0.13677718475359318,
              "RADESYS": "ICRS    ",
              "LONPOLE": 212.5479919953511
            },
            "clicked_object": {},
            "coo_frame": "ICRS",
            "layout": "IPY_MODEL_da09f7c4283d44d3a92cc44fae17fefd",
            "overlay_survey": "",
            "overlay_survey_opacity": 0,
            "projection": "SIN",
            "survey": "https://alaskybis.unistra.fr/DSS/DSSColor"
          }
        },
        "da09f7c4283d44d3a92cc44fae17fefd": {
          "model_module": "@jupyter-widgets/base",
          "model_name": "LayoutModel",
          "model_module_version": "1.2.0",
          "state": {
            "_model_module": "@jupyter-widgets/base",
            "_model_module_version": "1.2.0",
            "_model_name": "LayoutModel",
            "_view_count": null,
            "_view_module": "@jupyter-widgets/base",
            "_view_module_version": "1.2.0",
            "_view_name": "LayoutView",
            "align_content": null,
            "align_items": null,
            "align_self": null,
            "border": null,
            "bottom": null,
            "display": null,
            "flex": null,
            "flex_flow": null,
            "grid_area": null,
            "grid_auto_columns": null,
            "grid_auto_flow": null,
            "grid_auto_rows": null,
            "grid_column": null,
            "grid_gap": null,
            "grid_row": null,
            "grid_template_areas": null,
            "grid_template_columns": null,
            "grid_template_rows": null,
            "height": null,
            "justify_content": null,
            "justify_items": null,
            "left": null,
            "margin": null,
            "max_height": null,
            "max_width": null,
            "min_height": null,
            "min_width": null,
            "object_fit": null,
            "object_position": null,
            "order": null,
            "overflow": null,
            "overflow_x": null,
            "overflow_y": null,
            "padding": null,
            "right": null,
            "top": null,
            "visibility": null,
            "width": null
          }
        }
      }
    }
  },
  "nbformat": 4,
  "nbformat_minor": 5
}