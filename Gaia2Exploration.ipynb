{
  "nbformat": 4,
  "nbformat_minor": 0,
  "metadata": {
    "colab": {
      "provenance": [],
      "authorship_tag": "ABX9TyM5xENOKl3Nly1sQ2ZaVy8m",
      "include_colab_link": true
    },
    "kernelspec": {
      "name": "python3",
      "display_name": "Python 3"
    },
    "language_info": {
      "name": "python"
    }
  },
  "cells": [
    {
      "cell_type": "markdown",
      "metadata": {
        "id": "view-in-github",
        "colab_type": "text"
      },
      "source": [
        "<a href=\"https://colab.research.google.com/github/arturbernardo/data_stars/blob/main/Gaia2Exploration.ipynb\" target=\"_parent\"><img src=\"https://colab.research.google.com/assets/colab-badge.svg\" alt=\"Open In Colab\"/></a>"
      ]
    },
    {
      "cell_type": "code",
      "execution_count": 1,
      "metadata": {
        "colab": {
          "base_uri": "https://localhost:8080/"
        },
        "collapsed": true,
        "id": "4_IJ3C621Bl3",
        "outputId": "aa6a7222-3a5c-4998-b005-98a65e14494c"
      },
      "outputs": [
        {
          "output_type": "stream",
          "name": "stdout",
          "text": [
            "Collecting pyvo\n",
            "  Downloading pyvo-1.6.1-py3-none-any.whl.metadata (4.8 kB)\n",
            "Requirement already satisfied: astropy>=4.1 in /usr/local/lib/python3.11/dist-packages (from pyvo) (7.0.1)\n",
            "Requirement already satisfied: requests in /usr/local/lib/python3.11/dist-packages (from pyvo) (2.32.3)\n",
            "Requirement already satisfied: numpy>=1.23.2 in /usr/local/lib/python3.11/dist-packages (from astropy>=4.1->pyvo) (2.0.2)\n",
            "Requirement already satisfied: pyerfa>=2.0.1.1 in /usr/local/lib/python3.11/dist-packages (from astropy>=4.1->pyvo) (2.0.1.5)\n",
            "Requirement already satisfied: astropy-iers-data>=0.2025.1.31.12.41.4 in /usr/local/lib/python3.11/dist-packages (from astropy>=4.1->pyvo) (0.2025.3.31.0.36.18)\n",
            "Requirement already satisfied: PyYAML>=6.0.0 in /usr/local/lib/python3.11/dist-packages (from astropy>=4.1->pyvo) (6.0.2)\n",
            "Requirement already satisfied: packaging>=22.0.0 in /usr/local/lib/python3.11/dist-packages (from astropy>=4.1->pyvo) (24.2)\n",
            "Requirement already satisfied: charset-normalizer<4,>=2 in /usr/local/lib/python3.11/dist-packages (from requests->pyvo) (3.4.1)\n",
            "Requirement already satisfied: idna<4,>=2.5 in /usr/local/lib/python3.11/dist-packages (from requests->pyvo) (3.10)\n",
            "Requirement already satisfied: urllib3<3,>=1.21.1 in /usr/local/lib/python3.11/dist-packages (from requests->pyvo) (2.3.0)\n",
            "Requirement already satisfied: certifi>=2017.4.17 in /usr/local/lib/python3.11/dist-packages (from requests->pyvo) (2025.1.31)\n",
            "Downloading pyvo-1.6.1-py3-none-any.whl (997 kB)\n",
            "\u001b[2K   \u001b[90m━━━━━━━━━━━━━━━━━━━━━━━━━━━━━━━━━━━━━━━━\u001b[0m \u001b[32m997.6/997.6 kB\u001b[0m \u001b[31m9.7 MB/s\u001b[0m eta \u001b[36m0:00:00\u001b[0m\n",
            "\u001b[?25hInstalling collected packages: pyvo\n",
            "Successfully installed pyvo-1.6.1\n",
            "Collecting mocpy\n",
            "  Downloading mocpy-0.17.1-cp311-cp311-manylinux_2_28_x86_64.whl.metadata (5.8 kB)\n",
            "Requirement already satisfied: astropy in /usr/local/lib/python3.11/dist-packages (from mocpy) (7.0.1)\n",
            "Requirement already satisfied: numpy in /usr/local/lib/python3.11/dist-packages (from mocpy) (2.0.2)\n",
            "Requirement already satisfied: matplotlib in /usr/local/lib/python3.11/dist-packages (from mocpy) (3.10.0)\n",
            "Collecting cdshealpix>=0.6.4 (from mocpy)\n",
            "  Downloading cdshealpix-0.7.1-cp311-cp311-manylinux_2_17_x86_64.manylinux2014_x86_64.whl.metadata (4.3 kB)\n",
            "Requirement already satisfied: networkx>=2.5 in /usr/local/lib/python3.11/dist-packages (from mocpy) (3.4.2)\n",
            "Requirement already satisfied: pyerfa>=2.0.1.1 in /usr/local/lib/python3.11/dist-packages (from astropy->mocpy) (2.0.1.5)\n",
            "Requirement already satisfied: astropy-iers-data>=0.2025.1.31.12.41.4 in /usr/local/lib/python3.11/dist-packages (from astropy->mocpy) (0.2025.3.31.0.36.18)\n",
            "Requirement already satisfied: PyYAML>=6.0.0 in /usr/local/lib/python3.11/dist-packages (from astropy->mocpy) (6.0.2)\n",
            "Requirement already satisfied: packaging>=22.0.0 in /usr/local/lib/python3.11/dist-packages (from astropy->mocpy) (24.2)\n",
            "Requirement already satisfied: contourpy>=1.0.1 in /usr/local/lib/python3.11/dist-packages (from matplotlib->mocpy) (1.3.1)\n",
            "Requirement already satisfied: cycler>=0.10 in /usr/local/lib/python3.11/dist-packages (from matplotlib->mocpy) (0.12.1)\n",
            "Requirement already satisfied: fonttools>=4.22.0 in /usr/local/lib/python3.11/dist-packages (from matplotlib->mocpy) (4.56.0)\n",
            "Requirement already satisfied: kiwisolver>=1.3.1 in /usr/local/lib/python3.11/dist-packages (from matplotlib->mocpy) (1.4.8)\n",
            "Requirement already satisfied: pillow>=8 in /usr/local/lib/python3.11/dist-packages (from matplotlib->mocpy) (11.1.0)\n",
            "Requirement already satisfied: pyparsing>=2.3.1 in /usr/local/lib/python3.11/dist-packages (from matplotlib->mocpy) (3.2.3)\n",
            "Requirement already satisfied: python-dateutil>=2.7 in /usr/local/lib/python3.11/dist-packages (from matplotlib->mocpy) (2.8.2)\n",
            "Requirement already satisfied: six>=1.5 in /usr/local/lib/python3.11/dist-packages (from python-dateutil>=2.7->matplotlib->mocpy) (1.17.0)\n",
            "Downloading mocpy-0.17.1-cp311-cp311-manylinux_2_28_x86_64.whl (1.3 MB)\n",
            "\u001b[2K   \u001b[90m━━━━━━━━━━━━━━━━━━━━━━━━━━━━━━━━━━━━━━━━\u001b[0m \u001b[32m1.3/1.3 MB\u001b[0m \u001b[31m14.1 MB/s\u001b[0m eta \u001b[36m0:00:00\u001b[0m\n",
            "\u001b[?25hDownloading cdshealpix-0.7.1-cp311-cp311-manylinux_2_17_x86_64.manylinux2014_x86_64.whl (1.3 MB)\n",
            "\u001b[2K   \u001b[90m━━━━━━━━━━━━━━━━━━━━━━━━━━━━━━━━━━━━━━━━\u001b[0m \u001b[32m1.3/1.3 MB\u001b[0m \u001b[31m28.9 MB/s\u001b[0m eta \u001b[36m0:00:00\u001b[0m\n",
            "\u001b[?25hInstalling collected packages: cdshealpix, mocpy\n",
            "Successfully installed cdshealpix-0.7.1 mocpy-0.17.1\n",
            "Requirement already satisfied: astropy in /usr/local/lib/python3.11/dist-packages (7.0.1)\n",
            "Requirement already satisfied: numpy>=1.23.2 in /usr/local/lib/python3.11/dist-packages (from astropy) (2.0.2)\n",
            "Requirement already satisfied: pyerfa>=2.0.1.1 in /usr/local/lib/python3.11/dist-packages (from astropy) (2.0.1.5)\n",
            "Requirement already satisfied: astropy-iers-data>=0.2025.1.31.12.41.4 in /usr/local/lib/python3.11/dist-packages (from astropy) (0.2025.3.31.0.36.18)\n",
            "Requirement already satisfied: PyYAML>=6.0.0 in /usr/local/lib/python3.11/dist-packages (from astropy) (6.0.2)\n",
            "Requirement already satisfied: packaging>=22.0.0 in /usr/local/lib/python3.11/dist-packages (from astropy) (24.2)\n",
            "Collecting ipyaladin\n",
            "  Downloading ipyaladin-0.5.2-py3-none-any.whl.metadata (7.0 kB)\n",
            "Collecting anywidget (from ipyaladin)\n",
            "  Downloading anywidget-0.9.18-py3-none-any.whl.metadata (8.9 kB)\n",
            "Requirement already satisfied: astropy in /usr/local/lib/python3.11/dist-packages (from ipyaladin) (7.0.1)\n",
            "Requirement already satisfied: ipywidgets>=7.6.0 in /usr/local/lib/python3.11/dist-packages (from anywidget->ipyaladin) (7.7.1)\n",
            "Collecting psygnal>=0.8.1 (from anywidget->ipyaladin)\n",
            "  Downloading psygnal-0.12.0-cp311-cp311-manylinux_2_17_x86_64.manylinux2014_x86_64.whl.metadata (7.7 kB)\n",
            "Requirement already satisfied: typing-extensions>=4.2.0 in /usr/local/lib/python3.11/dist-packages (from anywidget->ipyaladin) (4.13.0)\n",
            "Requirement already satisfied: numpy>=1.23.2 in /usr/local/lib/python3.11/dist-packages (from astropy->ipyaladin) (2.0.2)\n",
            "Requirement already satisfied: pyerfa>=2.0.1.1 in /usr/local/lib/python3.11/dist-packages (from astropy->ipyaladin) (2.0.1.5)\n",
            "Requirement already satisfied: astropy-iers-data>=0.2025.1.31.12.41.4 in /usr/local/lib/python3.11/dist-packages (from astropy->ipyaladin) (0.2025.3.31.0.36.18)\n",
            "Requirement already satisfied: PyYAML>=6.0.0 in /usr/local/lib/python3.11/dist-packages (from astropy->ipyaladin) (6.0.2)\n",
            "Requirement already satisfied: packaging>=22.0.0 in /usr/local/lib/python3.11/dist-packages (from astropy->ipyaladin) (24.2)\n",
            "Requirement already satisfied: ipykernel>=4.5.1 in /usr/local/lib/python3.11/dist-packages (from ipywidgets>=7.6.0->anywidget->ipyaladin) (6.17.1)\n",
            "Requirement already satisfied: ipython-genutils~=0.2.0 in /usr/local/lib/python3.11/dist-packages (from ipywidgets>=7.6.0->anywidget->ipyaladin) (0.2.0)\n",
            "Requirement already satisfied: traitlets>=4.3.1 in /usr/local/lib/python3.11/dist-packages (from ipywidgets>=7.6.0->anywidget->ipyaladin) (5.7.1)\n",
            "Requirement already satisfied: widgetsnbextension~=3.6.0 in /usr/local/lib/python3.11/dist-packages (from ipywidgets>=7.6.0->anywidget->ipyaladin) (3.6.10)\n",
            "Requirement already satisfied: ipython>=4.0.0 in /usr/local/lib/python3.11/dist-packages (from ipywidgets>=7.6.0->anywidget->ipyaladin) (7.34.0)\n",
            "Requirement already satisfied: jupyterlab-widgets>=1.0.0 in /usr/local/lib/python3.11/dist-packages (from ipywidgets>=7.6.0->anywidget->ipyaladin) (3.0.13)\n",
            "Requirement already satisfied: debugpy>=1.0 in /usr/local/lib/python3.11/dist-packages (from ipykernel>=4.5.1->ipywidgets>=7.6.0->anywidget->ipyaladin) (1.8.0)\n",
            "Requirement already satisfied: jupyter-client>=6.1.12 in /usr/local/lib/python3.11/dist-packages (from ipykernel>=4.5.1->ipywidgets>=7.6.0->anywidget->ipyaladin) (6.1.12)\n",
            "Requirement already satisfied: matplotlib-inline>=0.1 in /usr/local/lib/python3.11/dist-packages (from ipykernel>=4.5.1->ipywidgets>=7.6.0->anywidget->ipyaladin) (0.1.7)\n",
            "Requirement already satisfied: nest-asyncio in /usr/local/lib/python3.11/dist-packages (from ipykernel>=4.5.1->ipywidgets>=7.6.0->anywidget->ipyaladin) (1.6.0)\n",
            "Requirement already satisfied: psutil in /usr/local/lib/python3.11/dist-packages (from ipykernel>=4.5.1->ipywidgets>=7.6.0->anywidget->ipyaladin) (5.9.5)\n",
            "Requirement already satisfied: pyzmq>=17 in /usr/local/lib/python3.11/dist-packages (from ipykernel>=4.5.1->ipywidgets>=7.6.0->anywidget->ipyaladin) (24.0.1)\n",
            "Requirement already satisfied: tornado>=6.1 in /usr/local/lib/python3.11/dist-packages (from ipykernel>=4.5.1->ipywidgets>=7.6.0->anywidget->ipyaladin) (6.4.2)\n",
            "Requirement already satisfied: setuptools>=18.5 in /usr/local/lib/python3.11/dist-packages (from ipython>=4.0.0->ipywidgets>=7.6.0->anywidget->ipyaladin) (75.2.0)\n",
            "Collecting jedi>=0.16 (from ipython>=4.0.0->ipywidgets>=7.6.0->anywidget->ipyaladin)\n",
            "  Downloading jedi-0.19.2-py2.py3-none-any.whl.metadata (22 kB)\n",
            "Requirement already satisfied: decorator in /usr/local/lib/python3.11/dist-packages (from ipython>=4.0.0->ipywidgets>=7.6.0->anywidget->ipyaladin) (4.4.2)\n",
            "Requirement already satisfied: pickleshare in /usr/local/lib/python3.11/dist-packages (from ipython>=4.0.0->ipywidgets>=7.6.0->anywidget->ipyaladin) (0.7.5)\n",
            "Requirement already satisfied: prompt-toolkit!=3.0.0,!=3.0.1,<3.1.0,>=2.0.0 in /usr/local/lib/python3.11/dist-packages (from ipython>=4.0.0->ipywidgets>=7.6.0->anywidget->ipyaladin) (3.0.50)\n",
            "Requirement already satisfied: pygments in /usr/local/lib/python3.11/dist-packages (from ipython>=4.0.0->ipywidgets>=7.6.0->anywidget->ipyaladin) (2.18.0)\n",
            "Requirement already satisfied: backcall in /usr/local/lib/python3.11/dist-packages (from ipython>=4.0.0->ipywidgets>=7.6.0->anywidget->ipyaladin) (0.2.0)\n",
            "Requirement already satisfied: pexpect>4.3 in /usr/local/lib/python3.11/dist-packages (from ipython>=4.0.0->ipywidgets>=7.6.0->anywidget->ipyaladin) (4.9.0)\n",
            "Requirement already satisfied: notebook>=4.4.1 in /usr/local/lib/python3.11/dist-packages (from widgetsnbextension~=3.6.0->ipywidgets>=7.6.0->anywidget->ipyaladin) (6.5.7)\n",
            "Requirement already satisfied: parso<0.9.0,>=0.8.4 in /usr/local/lib/python3.11/dist-packages (from jedi>=0.16->ipython>=4.0.0->ipywidgets>=7.6.0->anywidget->ipyaladin) (0.8.4)\n",
            "Requirement already satisfied: jupyter-core>=4.6.0 in /usr/local/lib/python3.11/dist-packages (from jupyter-client>=6.1.12->ipykernel>=4.5.1->ipywidgets>=7.6.0->anywidget->ipyaladin) (5.7.2)\n",
            "Requirement already satisfied: python-dateutil>=2.1 in /usr/local/lib/python3.11/dist-packages (from jupyter-client>=6.1.12->ipykernel>=4.5.1->ipywidgets>=7.6.0->anywidget->ipyaladin) (2.8.2)\n",
            "Requirement already satisfied: jinja2 in /usr/local/lib/python3.11/dist-packages (from notebook>=4.4.1->widgetsnbextension~=3.6.0->ipywidgets>=7.6.0->anywidget->ipyaladin) (3.1.6)\n",
            "Requirement already satisfied: argon2-cffi in /usr/local/lib/python3.11/dist-packages (from notebook>=4.4.1->widgetsnbextension~=3.6.0->ipywidgets>=7.6.0->anywidget->ipyaladin) (23.1.0)\n",
            "Requirement already satisfied: nbformat in /usr/local/lib/python3.11/dist-packages (from notebook>=4.4.1->widgetsnbextension~=3.6.0->ipywidgets>=7.6.0->anywidget->ipyaladin) (5.10.4)\n",
            "Requirement already satisfied: nbconvert>=5 in /usr/local/lib/python3.11/dist-packages (from notebook>=4.4.1->widgetsnbextension~=3.6.0->ipywidgets>=7.6.0->anywidget->ipyaladin) (7.16.6)\n",
            "Requirement already satisfied: Send2Trash>=1.8.0 in /usr/local/lib/python3.11/dist-packages (from notebook>=4.4.1->widgetsnbextension~=3.6.0->ipywidgets>=7.6.0->anywidget->ipyaladin) (1.8.3)\n",
            "Requirement already satisfied: terminado>=0.8.3 in /usr/local/lib/python3.11/dist-packages (from notebook>=4.4.1->widgetsnbextension~=3.6.0->ipywidgets>=7.6.0->anywidget->ipyaladin) (0.18.1)\n",
            "Requirement already satisfied: prometheus-client in /usr/local/lib/python3.11/dist-packages (from notebook>=4.4.1->widgetsnbextension~=3.6.0->ipywidgets>=7.6.0->anywidget->ipyaladin) (0.21.1)\n",
            "Requirement already satisfied: nbclassic>=0.4.7 in /usr/local/lib/python3.11/dist-packages (from notebook>=4.4.1->widgetsnbextension~=3.6.0->ipywidgets>=7.6.0->anywidget->ipyaladin) (1.2.0)\n",
            "Requirement already satisfied: ptyprocess>=0.5 in /usr/local/lib/python3.11/dist-packages (from pexpect>4.3->ipython>=4.0.0->ipywidgets>=7.6.0->anywidget->ipyaladin) (0.7.0)\n",
            "Requirement already satisfied: wcwidth in /usr/local/lib/python3.11/dist-packages (from prompt-toolkit!=3.0.0,!=3.0.1,<3.1.0,>=2.0.0->ipython>=4.0.0->ipywidgets>=7.6.0->anywidget->ipyaladin) (0.2.13)\n",
            "Requirement already satisfied: platformdirs>=2.5 in /usr/local/lib/python3.11/dist-packages (from jupyter-core>=4.6.0->jupyter-client>=6.1.12->ipykernel>=4.5.1->ipywidgets>=7.6.0->anywidget->ipyaladin) (4.3.7)\n",
            "Requirement already satisfied: notebook-shim>=0.2.3 in /usr/local/lib/python3.11/dist-packages (from nbclassic>=0.4.7->notebook>=4.4.1->widgetsnbextension~=3.6.0->ipywidgets>=7.6.0->anywidget->ipyaladin) (0.2.4)\n",
            "Requirement already satisfied: beautifulsoup4 in /usr/local/lib/python3.11/dist-packages (from nbconvert>=5->notebook>=4.4.1->widgetsnbextension~=3.6.0->ipywidgets>=7.6.0->anywidget->ipyaladin) (4.13.3)\n",
            "Requirement already satisfied: bleach!=5.0.0 in /usr/local/lib/python3.11/dist-packages (from bleach[css]!=5.0.0->nbconvert>=5->notebook>=4.4.1->widgetsnbextension~=3.6.0->ipywidgets>=7.6.0->anywidget->ipyaladin) (6.2.0)\n",
            "Requirement already satisfied: defusedxml in /usr/local/lib/python3.11/dist-packages (from nbconvert>=5->notebook>=4.4.1->widgetsnbextension~=3.6.0->ipywidgets>=7.6.0->anywidget->ipyaladin) (0.7.1)\n",
            "Requirement already satisfied: jupyterlab-pygments in /usr/local/lib/python3.11/dist-packages (from nbconvert>=5->notebook>=4.4.1->widgetsnbextension~=3.6.0->ipywidgets>=7.6.0->anywidget->ipyaladin) (0.3.0)\n",
            "Requirement already satisfied: markupsafe>=2.0 in /usr/local/lib/python3.11/dist-packages (from nbconvert>=5->notebook>=4.4.1->widgetsnbextension~=3.6.0->ipywidgets>=7.6.0->anywidget->ipyaladin) (3.0.2)\n",
            "Requirement already satisfied: mistune<4,>=2.0.3 in /usr/local/lib/python3.11/dist-packages (from nbconvert>=5->notebook>=4.4.1->widgetsnbextension~=3.6.0->ipywidgets>=7.6.0->anywidget->ipyaladin) (3.1.3)\n",
            "Requirement already satisfied: nbclient>=0.5.0 in /usr/local/lib/python3.11/dist-packages (from nbconvert>=5->notebook>=4.4.1->widgetsnbextension~=3.6.0->ipywidgets>=7.6.0->anywidget->ipyaladin) (0.10.2)\n",
            "Requirement already satisfied: pandocfilters>=1.4.1 in /usr/local/lib/python3.11/dist-packages (from nbconvert>=5->notebook>=4.4.1->widgetsnbextension~=3.6.0->ipywidgets>=7.6.0->anywidget->ipyaladin) (1.5.1)\n",
            "Requirement already satisfied: fastjsonschema>=2.15 in /usr/local/lib/python3.11/dist-packages (from nbformat->notebook>=4.4.1->widgetsnbextension~=3.6.0->ipywidgets>=7.6.0->anywidget->ipyaladin) (2.21.1)\n",
            "Requirement already satisfied: jsonschema>=2.6 in /usr/local/lib/python3.11/dist-packages (from nbformat->notebook>=4.4.1->widgetsnbextension~=3.6.0->ipywidgets>=7.6.0->anywidget->ipyaladin) (4.23.0)\n",
            "Requirement already satisfied: six>=1.5 in /usr/local/lib/python3.11/dist-packages (from python-dateutil>=2.1->jupyter-client>=6.1.12->ipykernel>=4.5.1->ipywidgets>=7.6.0->anywidget->ipyaladin) (1.17.0)\n",
            "Requirement already satisfied: argon2-cffi-bindings in /usr/local/lib/python3.11/dist-packages (from argon2-cffi->notebook>=4.4.1->widgetsnbextension~=3.6.0->ipywidgets>=7.6.0->anywidget->ipyaladin) (21.2.0)\n",
            "Requirement already satisfied: webencodings in /usr/local/lib/python3.11/dist-packages (from bleach!=5.0.0->bleach[css]!=5.0.0->nbconvert>=5->notebook>=4.4.1->widgetsnbextension~=3.6.0->ipywidgets>=7.6.0->anywidget->ipyaladin) (0.5.1)\n",
            "Requirement already satisfied: tinycss2<1.5,>=1.1.0 in /usr/local/lib/python3.11/dist-packages (from bleach[css]!=5.0.0->nbconvert>=5->notebook>=4.4.1->widgetsnbextension~=3.6.0->ipywidgets>=7.6.0->anywidget->ipyaladin) (1.4.0)\n",
            "Requirement already satisfied: attrs>=22.2.0 in /usr/local/lib/python3.11/dist-packages (from jsonschema>=2.6->nbformat->notebook>=4.4.1->widgetsnbextension~=3.6.0->ipywidgets>=7.6.0->anywidget->ipyaladin) (25.3.0)\n",
            "Requirement already satisfied: jsonschema-specifications>=2023.03.6 in /usr/local/lib/python3.11/dist-packages (from jsonschema>=2.6->nbformat->notebook>=4.4.1->widgetsnbextension~=3.6.0->ipywidgets>=7.6.0->anywidget->ipyaladin) (2024.10.1)\n",
            "Requirement already satisfied: referencing>=0.28.4 in /usr/local/lib/python3.11/dist-packages (from jsonschema>=2.6->nbformat->notebook>=4.4.1->widgetsnbextension~=3.6.0->ipywidgets>=7.6.0->anywidget->ipyaladin) (0.36.2)\n",
            "Requirement already satisfied: rpds-py>=0.7.1 in /usr/local/lib/python3.11/dist-packages (from jsonschema>=2.6->nbformat->notebook>=4.4.1->widgetsnbextension~=3.6.0->ipywidgets>=7.6.0->anywidget->ipyaladin) (0.24.0)\n",
            "Requirement already satisfied: jupyter-server<3,>=1.8 in /usr/local/lib/python3.11/dist-packages (from notebook-shim>=0.2.3->nbclassic>=0.4.7->notebook>=4.4.1->widgetsnbextension~=3.6.0->ipywidgets>=7.6.0->anywidget->ipyaladin) (1.16.0)\n",
            "Requirement already satisfied: cffi>=1.0.1 in /usr/local/lib/python3.11/dist-packages (from argon2-cffi-bindings->argon2-cffi->notebook>=4.4.1->widgetsnbextension~=3.6.0->ipywidgets>=7.6.0->anywidget->ipyaladin) (1.17.1)\n",
            "Requirement already satisfied: soupsieve>1.2 in /usr/local/lib/python3.11/dist-packages (from beautifulsoup4->nbconvert>=5->notebook>=4.4.1->widgetsnbextension~=3.6.0->ipywidgets>=7.6.0->anywidget->ipyaladin) (2.6)\n",
            "Requirement already satisfied: pycparser in /usr/local/lib/python3.11/dist-packages (from cffi>=1.0.1->argon2-cffi-bindings->argon2-cffi->notebook>=4.4.1->widgetsnbextension~=3.6.0->ipywidgets>=7.6.0->anywidget->ipyaladin) (2.22)\n",
            "Requirement already satisfied: anyio>=3.1.0 in /usr/local/lib/python3.11/dist-packages (from jupyter-server<3,>=1.8->notebook-shim>=0.2.3->nbclassic>=0.4.7->notebook>=4.4.1->widgetsnbextension~=3.6.0->ipywidgets>=7.6.0->anywidget->ipyaladin) (4.9.0)\n",
            "Requirement already satisfied: websocket-client in /usr/local/lib/python3.11/dist-packages (from jupyter-server<3,>=1.8->notebook-shim>=0.2.3->nbclassic>=0.4.7->notebook>=4.4.1->widgetsnbextension~=3.6.0->ipywidgets>=7.6.0->anywidget->ipyaladin) (1.8.0)\n",
            "Requirement already satisfied: idna>=2.8 in /usr/local/lib/python3.11/dist-packages (from anyio>=3.1.0->jupyter-server<3,>=1.8->notebook-shim>=0.2.3->nbclassic>=0.4.7->notebook>=4.4.1->widgetsnbextension~=3.6.0->ipywidgets>=7.6.0->anywidget->ipyaladin) (3.10)\n",
            "Requirement already satisfied: sniffio>=1.1 in /usr/local/lib/python3.11/dist-packages (from anyio>=3.1.0->jupyter-server<3,>=1.8->notebook-shim>=0.2.3->nbclassic>=0.4.7->notebook>=4.4.1->widgetsnbextension~=3.6.0->ipywidgets>=7.6.0->anywidget->ipyaladin) (1.3.1)\n",
            "Downloading ipyaladin-0.5.2-py3-none-any.whl (21 kB)\n",
            "Downloading anywidget-0.9.18-py3-none-any.whl (220 kB)\n",
            "\u001b[2K   \u001b[90m━━━━━━━━━━━━━━━━━━━━━━━━━━━━━━━━━━━━━━━━\u001b[0m \u001b[32m220.7/220.7 kB\u001b[0m \u001b[31m5.8 MB/s\u001b[0m eta \u001b[36m0:00:00\u001b[0m\n",
            "\u001b[?25hDownloading psygnal-0.12.0-cp311-cp311-manylinux_2_17_x86_64.manylinux2014_x86_64.whl (765 kB)\n",
            "\u001b[2K   \u001b[90m━━━━━━━━━━━━━━━━━━━━━━━━━━━━━━━━━━━━━━━━\u001b[0m \u001b[32m765.5/765.5 kB\u001b[0m \u001b[31m26.5 MB/s\u001b[0m eta \u001b[36m0:00:00\u001b[0m\n",
            "\u001b[?25hDownloading jedi-0.19.2-py2.py3-none-any.whl (1.6 MB)\n",
            "\u001b[2K   \u001b[90m━━━━━━━━━━━━━━━━━━━━━━━━━━━━━━━━━━━━━━━━\u001b[0m \u001b[32m1.6/1.6 MB\u001b[0m \u001b[31m40.4 MB/s\u001b[0m eta \u001b[36m0:00:00\u001b[0m\n",
            "\u001b[?25hInstalling collected packages: psygnal, jedi, anywidget, ipyaladin\n",
            "Successfully installed anywidget-0.9.18 ipyaladin-0.5.2 jedi-0.19.2 psygnal-0.12.0\n"
          ]
        }
      ],
      "source": [
        "!pip install pyvo\n",
        "!pip install mocpy\n",
        "!pip install astropy\n",
        "!pip install ipyaladin\n"
      ]
    },
    {
      "cell_type": "code",
      "source": [
        "# Access astronomical databases\n",
        "from pyvo import registry  # version >=1.6\n",
        "\n",
        "# Moc and HEALPix tools\n",
        "from mocpy import MOC\n",
        "\n",
        "# Coordinates manipulation\n",
        "from astropy.coordinates import SkyCoord\n",
        "\n",
        "# Sky visualization\n",
        "from ipyaladin import Aladin  # version >=0.4.0\n",
        "\n",
        "# For plots\n",
        "import matplotlib.pyplot as plt\n"
      ],
      "metadata": {
        "id": "HWM1MSLCOitS"
      },
      "execution_count": 2,
      "outputs": []
    },
    {
      "cell_type": "code",
      "source": [
        "# the catalogue name in VizieR\n",
        "# CATALOGUE = \"J/A+A/616/A10\"\n",
        "CATALOGUE = \"J/A+A/620/A128\"\n"
      ],
      "metadata": {
        "id": "acfBGiMWOoRv"
      },
      "execution_count": 13,
      "outputs": []
    },
    {
      "cell_type": "code",
      "source": [
        "# each resource in the VO has an identifier, called ivoid. For vizier catalogs,\n",
        "# the VO ids can be constructed like this:\n",
        "catalogue_ivoid = f\"ivo://CDS.VizieR/{CATALOGUE}\"\n",
        "# the actual query to the registry\n",
        "voresource = registry.search(ivoid=catalogue_ivoid)[0]"
      ],
      "metadata": {
        "id": "XkdBkXAzOuIh"
      },
      "execution_count": 14,
      "outputs": []
    },
    {
      "cell_type": "code",
      "source": [
        "# We can print metadata information about the catalogue\n",
        "voresource.describe(verbose=True)"
      ],
      "metadata": {
        "colab": {
          "base_uri": "https://localhost:8080/"
        },
        "id": "lQtKufiYOwJR",
        "outputId": "e28381d7-21cc-4b32-f64f-7d29fd28cec5"
      },
      "execution_count": 15,
      "outputs": [
        {
          "output_type": "stream",
          "name": "stdout",
          "text": [
            "Gaia DR2 study of Herbig Ae/Be stars\n",
            "Short Name: J/A+A/620/A128\n",
            "IVOA Identifier: ivo://cds.vizier/j/a+a/620/a128\n",
            "Access modes: conesearch, tap#aux, web\n",
            "- tap#aux: http://tapvizier.cds.unistra.fr/TAPVizieR/tap\n",
            "- webpage: http://vizier.cds.unistra.fr/viz-bin/VizieR-2?-source=J/A+A/620/A128\n",
            "- conesearch: https://vizier.cds.unistra.fr/viz-\n",
            " bin/conesearch/J/A+A/620/A128/hqsample?, description: Cone search capability\n",
            " for table J/A+A/620/A128/hqsample (Main parameters of each Herbig Ae/Be star\n",
            " belonging to the high quality 218 sources (table 1))\n",
            "- conesearch: https://vizier.cds.unistra.fr/viz-\n",
            " bin/conesearch/J/A+A/620/A128/lqsample?, description: Cone search capability\n",
            " for table J/A+A/620/A128/lqsample (Main parameters of each Herbig Ae/Be star\n",
            " belonging to the low quality 34 sources (table 2))\n",
            "\n",
            "We use Gaia Data Release 2 (DR2, Cat. I/345) to place 252 Herbig Ae/Be stars\n",
            "in the HR diagram and investigate their characteristics and properties. For\n",
            "all known Herbig Ae/Be stars with parallaxes in Gaia DR2, we collected their\n",
            "atmospheric parameters and photometric and extinction values from the\n",
            "literature. To these data we added near- and mid-infrared photometry,\n",
            "collected Halpha emission line properties such as equivalent widths and line\n",
            "profiles, and their binarity status. In addition, we developed a photometric\n",
            "variability indicator from Gaia's DR2 information. We provide masses, ages,\n",
            "luminosities, distances, photometric variabilities and infrared excesses\n",
            "homogeneously derived for the most complete sample of Herbig Ae/Be stars to\n",
            "date. We find that high mass stars have a much smaller infrared excess and\n",
            "have much lower optical variabilities compared to lower mass stars, with the\n",
            "break at around 7M_{sun}_. Halpha emission is generally correlated with\n",
            "infrared excess, with the correlation being stronger for infrared emission at\n",
            "wavelengths tracing the hot dust closest to the star. The variability\n",
            "indicator as developed by us shows that approximately 25% of all Herbig Ae/Be\n",
            "stars are strongly variable. We observe that the strongly variable objects\n",
            "display doubly peaked Halpha line profiles, indicating an edge-on disk. The\n",
            "fraction of strongly variable Herbig Ae stars is close to that found for\n",
            "A-type UX Ori stars. It had been suggested that this variability is in most\n",
            "cases due to asymmetric dusty disk structures seen edge-on. The observation\n",
            "here is in strong support of this hypothesis. Finally, the difference in dust\n",
            "properties occurs at 7M_{sun}_, while various properties traced at UV/optical\n",
            "wavelengths differ at a lower mass, 3M_{sun}_. The latter has been linked to\n",
            "different accretion mechanisms at work whereas the differing infrared\n",
            "properties and photometric variabilities are related to different or\n",
            "differently acting (dust-)disk dispersal mechanisms.\n",
            "\n",
            "Waveband Coverage:\n",
            "\n",
            "Source: 2018A&A...620A.128V\n",
            "Authors: Vioque M.,  Oudmaijer R.D.,  Baines D.,  Mendigutia I.,  Perez-Martinez R.\n",
            "Alternative identifier(s): doi:10.26093/cds/vizier.36200128\n",
            "More info: https://cdsarc.cds.unistra.fr/viz-bin/cat/J/A+A/620/A128\n"
          ]
        }
      ]
    },
    {
      "cell_type": "code",
      "source": [
        "voresource.get_tables()"
      ],
      "metadata": {
        "colab": {
          "base_uri": "https://localhost:8080/"
        },
        "id": "Ynw5a9brQ90b",
        "outputId": "f098a4d5-158c-46db-ccf3-4af1394a0fb5"
      },
      "execution_count": 16,
      "outputs": [
        {
          "output_type": "stream",
          "name": "stderr",
          "text": [
            "WARNING: W02: ?:?:?: W02: '' is not a valid datatype according to the VOSI spec [pyvo.io.vosi.vodataservice]\n",
            "WARNING:astropy:W02: ?:?:?: W02: '' is not a valid datatype according to the VOSI spec\n"
          ]
        },
        {
          "output_type": "execute_result",
          "data": {
            "text/plain": [
              "{'J/A+A/620/A128/hqsample': <VODataServiceTable name=\"J/A+A/620/A128/hqsample\">... 51 columns ...</VODataServiceTable>,\n",
              " 'J/A+A/620/A128/lqsample': <VODataServiceTable name=\"J/A+A/620/A128/lqsample\">... 51 columns ...</VODataServiceTable>,\n",
              " 'J/A+A/620/A128/refs': <VODataServiceTable name=\"J/A+A/620/A128/refs\">... 5 columns ...</VODataServiceTable>}"
            ]
          },
          "metadata": {},
          "execution_count": 16
        }
      ]
    },
    {
      "cell_type": "code",
      "source": [
        "tables = voresource.get_tables()\n",
        "tables_names = list(tables.keys())\n",
        "tables_names"
      ],
      "metadata": {
        "colab": {
          "base_uri": "https://localhost:8080/"
        },
        "id": "2zr7Gak3SGZP",
        "outputId": "10d82651-6ff2-4538-f6c8-1d61c04e0f30"
      },
      "execution_count": 17,
      "outputs": [
        {
          "output_type": "execute_result",
          "data": {
            "text/plain": [
              "['J/A+A/620/A128/hqsample', 'J/A+A/620/A128/lqsample', 'J/A+A/620/A128/refs']"
            ]
          },
          "metadata": {},
          "execution_count": 17
        }
      ]
    },
    {
      "cell_type": "code",
      "source": [
        "# get the first table of the catalogue\n",
        "first_table_name = tables_names[0]\n",
        "\n",
        "# execute a synchronous ADQL query\n",
        "tap_service = voresource.get_service(\"tap\")\n",
        "tap_records = tap_service.search(\n",
        "    f'select TOP 10 * from \"{first_table_name}\"',\n",
        ")\n",
        "tap_records.fielddescs"
      ],
      "metadata": {
        "colab": {
          "base_uri": "https://localhost:8080/"
        },
        "id": "1JnpGVTHRv7D",
        "outputId": "7a2cb539-d01e-478f-8f57-087d28833a78"
      },
      "execution_count": 18,
      "outputs": [
        {
          "output_type": "execute_result",
          "data": {
            "text/plain": [
              "[<FIELD ID=\"recno\" datatype=\"int\" name=\"recno\" ucd=\"meta.record\"/>,\n",
              " <FIELD ID=\"Name\" arraysize=\"*\" datatype=\"char\" name=\"Name\" ucd=\"meta.id;meta.main\"/>,\n",
              " <FIELD ID=\"RAICRS\" datatype=\"double\" name=\"RAICRS\" ref=\"coosys_c36200128hqsample\" ucd=\"pos.eq.ra;meta.main\" unit=\"deg\"/>,\n",
              " <FIELD ID=\"DEICRS\" datatype=\"double\" name=\"DEICRS\" ref=\"coosys_c36200128hqsample\" ucd=\"pos.eq.dec;meta.main\" unit=\"deg\"/>,\n",
              " <FIELD ID=\"plx\" datatype=\"double\" name=\"plx\" ucd=\"pos.parallax.trig\" unit=\"mas\"/>,\n",
              " <FIELD ID=\"e_plx\" datatype=\"double\" name=\"e_plx\" ucd=\"stat.error;pos.parallax\" unit=\"mas\"/>,\n",
              " <FIELD ID=\"Dist\" datatype=\"double\" name=\"Dist\" ucd=\"pos.distance;pos.heliocentric\" unit=\"pc\"/>,\n",
              " <FIELD ID=\"E_Dist\" datatype=\"double\" name=\"E_Dist\" ucd=\"stat.error;stat.max\" unit=\"pc\"/>,\n",
              " <FIELD ID=\"e_Dist\" datatype=\"double\" name=\"e_Dist\" ucd=\"stat.error\" unit=\"pc\"/>,\n",
              " <FIELD ID=\"Teff\" datatype=\"int\" name=\"Teff\" ucd=\"phys.temperature.effective\" unit=\"K\"/>,\n",
              " <FIELD ID=\"E_Teff\" datatype=\"short\" name=\"E_Teff\" ucd=\"stat.error;stat.max\" unit=\"K\"/>,\n",
              " <FIELD ID=\"e_Teff\" datatype=\"short\" name=\"e_Teff\" ucd=\"stat.error;phys.temperature.effective\" unit=\"K\"/>,\n",
              " <FIELD ID=\"LogL\" datatype=\"double\" name=\"LogL\" ucd=\"phys.luminosity\" unit=\"log(solLum)\"/>,\n",
              " <FIELD ID=\"E_LogL\" datatype=\"double\" name=\"E_LogL\" ucd=\"stat.error;stat.max\" unit=\"log(solLum)\"/>,\n",
              " <FIELD ID=\"e_LogL\" datatype=\"double\" name=\"e_LogL\" ucd=\"stat.error\" unit=\"log(solLum)\"/>,\n",
              " <FIELD ID=\"Av\" datatype=\"double\" name=\"Av\" ucd=\"phys.absorption\" unit=\"mag\"/>,\n",
              " <FIELD ID=\"E_Av\" datatype=\"double\" name=\"E_Av\" ucd=\"stat.error;stat.max\" unit=\"mag\"/>,\n",
              " <FIELD ID=\"e_Av\" datatype=\"double\" name=\"e_Av\" ucd=\"stat.error\" unit=\"mag\"/>,\n",
              " <FIELD ID=\"V\" datatype=\"double\" name=\"V\" ucd=\"phot.mag;em.opt.V\" unit=\"mag\"/>,\n",
              " <FIELD ID=\"Bin\" arraysize=\"*\" datatype=\"char\" name=\"Bin\" ucd=\"meta.code.multip\"/>,\n",
              " <FIELD ID=\"r_Bin\" datatype=\"short\" name=\"r_Bin\" ucd=\"meta.ref;pos.frame\"/>,\n",
              " <FIELD ID=\"E_NIR_\" datatype=\"float\" name=\"E(NIR)\" ucd=\"phot.flux;arith.ratio\"/>,\n",
              " <FIELD ID=\"E_E_NIR_\" datatype=\"float\" name=\"E_E(NIR)\" ucd=\"stat.error;stat.max\"/>,\n",
              " <FIELD ID=\"e_E_NIR_\" datatype=\"float\" name=\"e_E(NIR)\" ucd=\"stat.error\"/>,\n",
              " <FIELD ID=\"E_MIR_\" datatype=\"float\" name=\"E(MIR)\" ucd=\"phot.flux;arith.ratio\"/>,\n",
              " <FIELD ID=\"E_E_MIR_\" datatype=\"float\" name=\"E_E(MIR)\" ucd=\"stat.error;stat.max\"/>,\n",
              " <FIELD ID=\"e_E_MIR_\" datatype=\"float\" name=\"e_E(MIR)\" ucd=\"stat.error\"/>,\n",
              " <FIELD ID=\"EWHa\" datatype=\"double\" name=\"EWHa\" ucd=\"spect.line.eqWidth;em.line.Halpha\" unit=\"0.1 nm\"/>,\n",
              " <FIELD ID=\"e_EWHa\" datatype=\"double\" name=\"e_EWHa\" ucd=\"stat.error\" unit=\"0.1 nm\"/>,\n",
              " <FIELD ID=\"r_EWHa\" datatype=\"short\" name=\"r_EWHa\" ucd=\"meta.ref;pos.frame\"/>,\n",
              " <FIELD ID=\"Hashape\" arraysize=\"1\" datatype=\"char\" name=\"Hashape\" ucd=\"spect.line.profile;em.line.Halpha\"/>,\n",
              " <FIELD ID=\"r_Hashape\" datatype=\"short\" name=\"r_Hashape\" ucd=\"meta.ref;pos.frame\"/>,\n",
              " <FIELD ID=\"Vi\" datatype=\"double\" name=\"Vi\" ucd=\"meta.code;src.var\"/>,\n",
              " <FIELD ID=\"UXOR\" arraysize=\"*\" datatype=\"char\" name=\"UXOR\" ucd=\"meta.code.status;src.class\"/>,\n",
              " <FIELD ID=\"Mass\" datatype=\"double\" name=\"Mass\" ucd=\"phys.mass\" unit=\"Msun\"/>,\n",
              " <FIELD ID=\"E_Mass\" datatype=\"double\" name=\"E_Mass\" ucd=\"stat.error;stat.max\" unit=\"Msun\"/>,\n",
              " <FIELD ID=\"e_Mass\" datatype=\"double\" name=\"e_Mass\" ucd=\"stat.error;phys.mass\" unit=\"Msun\"/>,\n",
              " <FIELD ID=\"Age\" datatype=\"float\" name=\"Age\" ucd=\"time.age\" unit=\"Myr\"/>,\n",
              " <FIELD ID=\"E_Age\" datatype=\"float\" name=\"E_Age\" ucd=\"stat.error;stat.max\" unit=\"Myr\"/>,\n",
              " <FIELD ID=\"e_Age\" datatype=\"float\" name=\"e_Age\" ucd=\"stat.error;time.age\" unit=\"Myr\"/>,\n",
              " <FIELD ID=\"E_J_\" datatype=\"double\" name=\"E(J)\" ucd=\"phot.flux;arith.ratio\"/>,\n",
              " <FIELD ID=\"E_H_\" datatype=\"double\" name=\"E(H)\" ucd=\"phot.flux;arith.ratio\"/>,\n",
              " <FIELD ID=\"E_Ks_\" datatype=\"double\" name=\"E(Ks)\" ucd=\"phot.flux;arith.ratio\"/>,\n",
              " <FIELD ID=\"E_W1_\" datatype=\"double\" name=\"E(W1)\" ucd=\"phot.flux;arith.ratio\"/>,\n",
              " <FIELD ID=\"E_W2_\" datatype=\"double\" name=\"E(W2)\" ucd=\"phot.flux;arith.ratio\"/>,\n",
              " <FIELD ID=\"E_W3_\" datatype=\"double\" name=\"E(W3)\" ucd=\"phot.flux;arith.ratio\"/>,\n",
              " <FIELD ID=\"E_W4_\" datatype=\"double\" name=\"E(W4)\" ucd=\"phot.flux;arith.ratio\"/>,\n",
              " <FIELD ID=\"The\" arraysize=\"*\" datatype=\"char\" name=\"The\" ucd=\"meta.code\"/>,\n",
              " <FIELD ID=\"SimbadName\" arraysize=\"*\" datatype=\"char\" name=\"SimbadName\" ucd=\"meta.id\"/>,\n",
              " <FIELD ID=\"_RA_icrs\" datatype=\"double\" name=\"_RA_icrs\" ucd=\"pos.eq.ra\" unit=\"deg\"/>,\n",
              " <FIELD ID=\"_DE_icrs\" datatype=\"double\" name=\"_DE_icrs\" ucd=\"pos.eq.dec\" unit=\"deg\"/>]"
            ]
          },
          "metadata": {},
          "execution_count": 18
        }
      ]
    },
    {
      "cell_type": "code",
      "source": [
        "tap_records.infos"
      ],
      "metadata": {
        "colab": {
          "base_uri": "https://localhost:8080/"
        },
        "id": "tubRDmR1dBeg",
        "outputId": "99742e8f-b203-48ce-c79a-10b7beea7c4c"
      },
      "execution_count": 12,
      "outputs": [
        {
          "output_type": "execute_result",
          "data": {
            "text/plain": [
              "{'QUERY_STATUS': 'OK',\n",
              " 'PROVIDER': 'CDS',\n",
              " 'QUERY': 'select TOP 10 * from \"J/A+A/616/A10/tablea1a\"',\n",
              " 'ivoid_service': 'ivo://CDS.VizieR/TAP',\n",
              " 'publisher': 'ivo://CDS',\n",
              " 'server_software': 'TAPVizieR-Vollt/1.1.3',\n",
              " 'service_protocol': 'ivo://ivoa.net/std/TAP/v1.1',\n",
              " 'request_date': '2025-04-06 16:07:24',\n",
              " 'contact': 'cds-question@unistra.fr',\n",
              " 'ivoid': 'ivo://CDS.VizieR/J/A+A/616/A10',\n",
              " 'reference_url': 'https://cdsarc.cds.unistra.fr/viz-bin/cat/J/A+A/616/A10',\n",
              " 'rights_uri': 'https://cds.unistra.fr/vizier-org/licences_vizier.html',\n",
              " 'creator': 'Gaia Collaboration',\n",
              " 'article': '2018A&A...616A..10G',\n",
              " 'publication_date': '2018-08-10 12:38:01+02',\n",
              " 'product_type': 'Critical Comp.'}"
            ]
          },
          "metadata": {},
          "execution_count": 12
        }
      ]
    },
    {
      "cell_type": "code",
      "source": [
        "print(tap_records)"
      ],
      "metadata": {
        "colab": {
          "base_uri": "https://localhost:8080/"
        },
        "id": "ZherUWWOTS_2",
        "outputId": "504aa385-0bad-4b0c-cb45-57416077dd45"
      },
      "execution_count": 25,
      "outputs": [
        {
          "output_type": "stream",
          "name": "stdout",
          "text": [
            "<DALResultsTable length=10>\n",
            "recno    Name          RAICRS       ... SimbadName      _RA_icrs           _DE_icrs     \n",
            "                        deg         ...                   deg                deg        \n",
            "int32   object        float64       ...   object        float64            float64      \n",
            "----- ---------- ------------------ ... ---------- ------------------ ------------------\n",
            "    1     AB Aur           73.94125 ...     AB Aur           73.94125  30.55111111111111\n",
            "    2     AK Sco 253.68666666666664 ...     AK Sco 253.68666666666664  -36.8886111111111\n",
            "    3     AS 310  278.3383333333333 ...     AS 310  278.3383333333333 -4.968333333333333\n",
            "    4     AS 470  324.0591666666666 ...     AS 470  324.0591666666666   57.3586111111111\n",
            "    5     AS 477  328.1420833333333 ...     AS 477  328.1420833333333  47.22888888888888\n",
            "    6  BD+30 549 52.332499999999996 ...  BD+30 549 52.332499999999996 31.415833333333328\n",
            "    7 BD+41 3731 306.06541666666664 ... BD+41 3731 306.06541666666664  42.30027777777777\n",
            "    8     BF Ori  84.30541666666666 ...     BF Ori  84.30541666666666  -6.58361111111111\n",
            "    9     BH Cep          330.42875 ...     BH Cep          330.42875  69.74333333333333\n",
            "   10     BO Cep  334.2254166666666 ...     BO Cep  334.2254166666666  70.06249999999999\n"
          ]
        }
      ]
    },
    {
      "cell_type": "code",
      "source": [],
      "metadata": {
        "colab": {
          "base_uri": "https://localhost:8080/",
          "height": 144
        },
        "collapsed": true,
        "id": "MlAsQ2D2bpxt",
        "outputId": "a06034cc-b5cc-4d9b-c51a-04fe1e132814"
      },
      "execution_count": 24,
      "outputs": [
        {
          "output_type": "error",
          "ename": "NameError",
          "evalue": "name 'pd' is not defined",
          "traceback": [
            "\u001b[0;31m---------------------------------------------------------------------------\u001b[0m",
            "\u001b[0;31mNameError\u001b[0m                                 Traceback (most recent call last)",
            "\u001b[0;32m<ipython-input-24-eb104548c962>\u001b[0m in \u001b[0;36m<cell line: 0>\u001b[0;34m()\u001b[0m\n\u001b[0;32m----> 1\u001b[0;31m \u001b[0mpd\u001b[0m\u001b[0;34m.\u001b[0m\u001b[0mset_option\u001b[0m\u001b[0;34m(\u001b[0m\u001b[0;34m'display.max_rows'\u001b[0m\u001b[0;34m,\u001b[0m \u001b[0;36m100\u001b[0m\u001b[0;34m)\u001b[0m \u001b[0;31m#replace n with the number of rows you want to see completely\u001b[0m\u001b[0;34m\u001b[0m\u001b[0;34m\u001b[0m\u001b[0m\n\u001b[0m",
            "\u001b[0;31mNameError\u001b[0m: name 'pd' is not defined"
          ]
        }
      ]
    },
    {
      "cell_type": "markdown",
      "source": [
        "ˊ\n",
        " **ndice** de cor=BP−RP\n",
        "Este índice de cor, que pode ser positivo ou negativo, dá uma indicação do tipo de cor da estrela. Estrelas mais azuis têm um índice de cor negativo (porque o BP será menor do que o RP), enquanto estrelas mais vermelhas terão um índice de cor positivo (porque o RP será maior do que o BP).\n",
        "\n",
        "Índice de cor negativo → Estrela azul.\n",
        "\n",
        "Índice de cor positivo → Estrela vermelha.\n",
        "\n",
        "Por exemplo:\n",
        "\n",
        "Estrelas azuis: Têm um índice de cor BP - RP negativo, o que significa que elas têm uma magnitude maior na banda azul (BP) do que na banda vermelha (RP).\n",
        "\n",
        "Estrelas vermelhas: Têm um índice de cor BP - RP positivo, o que indica que elas são mais brilhantes na banda vermelha."
      ],
      "metadata": {
        "id": "PUAklTYvhdrk"
      }
    },
    {
      "cell_type": "markdown",
      "source": [
        "phot_proc_mode : Photometry processing mode (byte)\n",
        "\n",
        "This flag indicates the photometric calibration process used for the source. The process is determined by the availability of colour information derived from the internally calibrated mean BP and RP source spectra. The following values are defined for Gaia DR3:\n",
        "\n",
        "• 0: this corresponds to the ‘gold’ photometric dataset. Sources in this dataset have complete colour information.\n",
        "• 1: this corresponds to the ‘silver’ photometric dataset. Sources in this dataset have incomplete colour information and therefore were calibrated using an iterative process that estimated the missing colour information from the source mean G and either BP or RP photometry (depending on which band had full colour information available) using empirical relationships derived from the gold dataset.\n",
        "• 2: this corresponds to the ‘bronze’ photometric dataset. Sources in this dataset had insufficient colour information and therefore were calibrated using default colour information derived from the gold dataset."
      ],
      "metadata": {
        "id": "o4Fd3jBHidDt"
      }
    },
    {
      "cell_type": "markdown",
      "source": [
        "bp_rp : BP - RP colour (float, Magnitude[mag])\n",
        "\n"
      ],
      "metadata": {
        "id": "97K1FPofirUl"
      }
    },
    {
      "cell_type": "markdown",
      "source": [
        "phot_g_mean_mag : G-band mean magnitude (float, Magnitude[mag])\n",
        "\n",
        "Mean magnitude in the G band. This is computed from the G-band mean flux (phot_g_mean_flux ) applying the magnitude zero-point in the Vega scale (see Section 5.4.1).\n",
        "\n",
        "No error is provided for this quantity as the error distribution is only symmetric in flux space. This converts to an asymmetric error distribution in magnitude space which cannot be represented by a single error value."
      ],
      "metadata": {
        "id": "tV_dnflqjuUS"
      }
    },
    {
      "cell_type": "markdown",
      "source": [
        "BY CHATGPT:\n",
        "\n",
        "3. Exemplo de campos relacionados à cor no Gaia DR2:\n",
        "Aqui estão alguns campos do Gaia DR2 que podem ser relevantes:\n",
        "\n",
        "BP_mag: A magnitude da estrela na banda azul (BP).\n",
        "\n",
        "RP_mag: A magnitude da estrela na banda vermelha (RP).\n",
        "\n",
        "G_mag: A magnitude na banda G (visível).\n",
        "\n",
        "BP-RP: O índice de cor que calcula a diferença entre as magnitudes BP e RP."
      ],
      "metadata": {
        "id": "-P9gZTjnj4-m"
      }
    }
  ]
}