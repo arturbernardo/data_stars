{
  "nbformat": 4,
  "nbformat_minor": 0,
  "metadata": {
    "colab": {
      "provenance": [],
      "authorship_tag": "ABX9TyOHzpV/8wLBR/hWqjmJPXZs",
      "include_colab_link": true
    },
    "kernelspec": {
      "name": "python3",
      "display_name": "Python 3"
    },
    "language_info": {
      "name": "python"
    }
  },
  "cells": [
    {
      "cell_type": "markdown",
      "metadata": {
        "id": "view-in-github",
        "colab_type": "text"
      },
      "source": [
        "<a href=\"https://colab.research.google.com/github/arturbernardo/data_stars/blob/main/Gaia2Exploration.ipynb\" target=\"_parent\"><img src=\"https://colab.research.google.com/assets/colab-badge.svg\" alt=\"Open In Colab\"/></a>"
      ]
    },
    {
      "cell_type": "code",
      "execution_count": 38,
      "metadata": {
        "colab": {
          "base_uri": "https://localhost:8080/"
        },
        "collapsed": true,
        "id": "4_IJ3C621Bl3",
        "outputId": "2145e41c-eab3-4335-ecbc-cd60fe50edc9"
      },
      "outputs": [
        {
          "output_type": "stream",
          "name": "stdout",
          "text": [
            "Requirement already satisfied: pyvo in /usr/local/lib/python3.11/dist-packages (1.6.1)\n",
            "Requirement already satisfied: astropy>=4.1 in /usr/local/lib/python3.11/dist-packages (from pyvo) (7.0.1)\n",
            "Requirement already satisfied: requests in /usr/local/lib/python3.11/dist-packages (from pyvo) (2.32.3)\n",
            "Requirement already satisfied: numpy>=1.23.2 in /usr/local/lib/python3.11/dist-packages (from astropy>=4.1->pyvo) (2.0.2)\n",
            "Requirement already satisfied: pyerfa>=2.0.1.1 in /usr/local/lib/python3.11/dist-packages (from astropy>=4.1->pyvo) (2.0.1.5)\n",
            "Requirement already satisfied: astropy-iers-data>=0.2025.1.31.12.41.4 in /usr/local/lib/python3.11/dist-packages (from astropy>=4.1->pyvo) (0.2025.3.31.0.36.18)\n",
            "Requirement already satisfied: PyYAML>=6.0.0 in /usr/local/lib/python3.11/dist-packages (from astropy>=4.1->pyvo) (6.0.2)\n",
            "Requirement already satisfied: packaging>=22.0.0 in /usr/local/lib/python3.11/dist-packages (from astropy>=4.1->pyvo) (24.2)\n",
            "Requirement already satisfied: charset-normalizer<4,>=2 in /usr/local/lib/python3.11/dist-packages (from requests->pyvo) (3.4.1)\n",
            "Requirement already satisfied: idna<4,>=2.5 in /usr/local/lib/python3.11/dist-packages (from requests->pyvo) (3.10)\n",
            "Requirement already satisfied: urllib3<3,>=1.21.1 in /usr/local/lib/python3.11/dist-packages (from requests->pyvo) (2.3.0)\n",
            "Requirement already satisfied: certifi>=2017.4.17 in /usr/local/lib/python3.11/dist-packages (from requests->pyvo) (2025.1.31)\n",
            "Requirement already satisfied: mocpy in /usr/local/lib/python3.11/dist-packages (0.17.1)\n",
            "Requirement already satisfied: astropy in /usr/local/lib/python3.11/dist-packages (from mocpy) (7.0.1)\n",
            "Requirement already satisfied: numpy in /usr/local/lib/python3.11/dist-packages (from mocpy) (2.0.2)\n",
            "Requirement already satisfied: matplotlib in /usr/local/lib/python3.11/dist-packages (from mocpy) (3.10.0)\n",
            "Requirement already satisfied: cdshealpix>=0.6.4 in /usr/local/lib/python3.11/dist-packages (from mocpy) (0.7.1)\n",
            "Requirement already satisfied: networkx>=2.5 in /usr/local/lib/python3.11/dist-packages (from mocpy) (3.4.2)\n",
            "Requirement already satisfied: pyerfa>=2.0.1.1 in /usr/local/lib/python3.11/dist-packages (from astropy->mocpy) (2.0.1.5)\n",
            "Requirement already satisfied: astropy-iers-data>=0.2025.1.31.12.41.4 in /usr/local/lib/python3.11/dist-packages (from astropy->mocpy) (0.2025.3.31.0.36.18)\n",
            "Requirement already satisfied: PyYAML>=6.0.0 in /usr/local/lib/python3.11/dist-packages (from astropy->mocpy) (6.0.2)\n",
            "Requirement already satisfied: packaging>=22.0.0 in /usr/local/lib/python3.11/dist-packages (from astropy->mocpy) (24.2)\n",
            "Requirement already satisfied: contourpy>=1.0.1 in /usr/local/lib/python3.11/dist-packages (from matplotlib->mocpy) (1.3.1)\n",
            "Requirement already satisfied: cycler>=0.10 in /usr/local/lib/python3.11/dist-packages (from matplotlib->mocpy) (0.12.1)\n",
            "Requirement already satisfied: fonttools>=4.22.0 in /usr/local/lib/python3.11/dist-packages (from matplotlib->mocpy) (4.56.0)\n",
            "Requirement already satisfied: kiwisolver>=1.3.1 in /usr/local/lib/python3.11/dist-packages (from matplotlib->mocpy) (1.4.8)\n",
            "Requirement already satisfied: pillow>=8 in /usr/local/lib/python3.11/dist-packages (from matplotlib->mocpy) (11.1.0)\n",
            "Requirement already satisfied: pyparsing>=2.3.1 in /usr/local/lib/python3.11/dist-packages (from matplotlib->mocpy) (3.2.3)\n",
            "Requirement already satisfied: python-dateutil>=2.7 in /usr/local/lib/python3.11/dist-packages (from matplotlib->mocpy) (2.8.2)\n",
            "Requirement already satisfied: six>=1.5 in /usr/local/lib/python3.11/dist-packages (from python-dateutil>=2.7->matplotlib->mocpy) (1.17.0)\n",
            "Requirement already satisfied: astropy in /usr/local/lib/python3.11/dist-packages (7.0.1)\n",
            "Requirement already satisfied: numpy>=1.23.2 in /usr/local/lib/python3.11/dist-packages (from astropy) (2.0.2)\n",
            "Requirement already satisfied: pyerfa>=2.0.1.1 in /usr/local/lib/python3.11/dist-packages (from astropy) (2.0.1.5)\n",
            "Requirement already satisfied: astropy-iers-data>=0.2025.1.31.12.41.4 in /usr/local/lib/python3.11/dist-packages (from astropy) (0.2025.3.31.0.36.18)\n",
            "Requirement already satisfied: PyYAML>=6.0.0 in /usr/local/lib/python3.11/dist-packages (from astropy) (6.0.2)\n",
            "Requirement already satisfied: packaging>=22.0.0 in /usr/local/lib/python3.11/dist-packages (from astropy) (24.2)\n",
            "Requirement already satisfied: ipyaladin in /usr/local/lib/python3.11/dist-packages (0.5.2)\n",
            "Requirement already satisfied: anywidget in /usr/local/lib/python3.11/dist-packages (from ipyaladin) (0.9.18)\n",
            "Requirement already satisfied: astropy in /usr/local/lib/python3.11/dist-packages (from ipyaladin) (7.0.1)\n",
            "Requirement already satisfied: ipywidgets>=7.6.0 in /usr/local/lib/python3.11/dist-packages (from anywidget->ipyaladin) (7.7.1)\n",
            "Requirement already satisfied: psygnal>=0.8.1 in /usr/local/lib/python3.11/dist-packages (from anywidget->ipyaladin) (0.12.0)\n",
            "Requirement already satisfied: typing-extensions>=4.2.0 in /usr/local/lib/python3.11/dist-packages (from anywidget->ipyaladin) (4.13.0)\n",
            "Requirement already satisfied: numpy>=1.23.2 in /usr/local/lib/python3.11/dist-packages (from astropy->ipyaladin) (2.0.2)\n",
            "Requirement already satisfied: pyerfa>=2.0.1.1 in /usr/local/lib/python3.11/dist-packages (from astropy->ipyaladin) (2.0.1.5)\n",
            "Requirement already satisfied: astropy-iers-data>=0.2025.1.31.12.41.4 in /usr/local/lib/python3.11/dist-packages (from astropy->ipyaladin) (0.2025.3.31.0.36.18)\n",
            "Requirement already satisfied: PyYAML>=6.0.0 in /usr/local/lib/python3.11/dist-packages (from astropy->ipyaladin) (6.0.2)\n",
            "Requirement already satisfied: packaging>=22.0.0 in /usr/local/lib/python3.11/dist-packages (from astropy->ipyaladin) (24.2)\n",
            "Requirement already satisfied: ipykernel>=4.5.1 in /usr/local/lib/python3.11/dist-packages (from ipywidgets>=7.6.0->anywidget->ipyaladin) (6.17.1)\n",
            "Requirement already satisfied: ipython-genutils~=0.2.0 in /usr/local/lib/python3.11/dist-packages (from ipywidgets>=7.6.0->anywidget->ipyaladin) (0.2.0)\n",
            "Requirement already satisfied: traitlets>=4.3.1 in /usr/local/lib/python3.11/dist-packages (from ipywidgets>=7.6.0->anywidget->ipyaladin) (5.7.1)\n",
            "Requirement already satisfied: widgetsnbextension~=3.6.0 in /usr/local/lib/python3.11/dist-packages (from ipywidgets>=7.6.0->anywidget->ipyaladin) (3.6.10)\n",
            "Requirement already satisfied: ipython>=4.0.0 in /usr/local/lib/python3.11/dist-packages (from ipywidgets>=7.6.0->anywidget->ipyaladin) (7.34.0)\n",
            "Requirement already satisfied: jupyterlab-widgets>=1.0.0 in /usr/local/lib/python3.11/dist-packages (from ipywidgets>=7.6.0->anywidget->ipyaladin) (3.0.13)\n",
            "Requirement already satisfied: debugpy>=1.0 in /usr/local/lib/python3.11/dist-packages (from ipykernel>=4.5.1->ipywidgets>=7.6.0->anywidget->ipyaladin) (1.8.0)\n",
            "Requirement already satisfied: jupyter-client>=6.1.12 in /usr/local/lib/python3.11/dist-packages (from ipykernel>=4.5.1->ipywidgets>=7.6.0->anywidget->ipyaladin) (6.1.12)\n",
            "Requirement already satisfied: matplotlib-inline>=0.1 in /usr/local/lib/python3.11/dist-packages (from ipykernel>=4.5.1->ipywidgets>=7.6.0->anywidget->ipyaladin) (0.1.7)\n",
            "Requirement already satisfied: nest-asyncio in /usr/local/lib/python3.11/dist-packages (from ipykernel>=4.5.1->ipywidgets>=7.6.0->anywidget->ipyaladin) (1.6.0)\n",
            "Requirement already satisfied: psutil in /usr/local/lib/python3.11/dist-packages (from ipykernel>=4.5.1->ipywidgets>=7.6.0->anywidget->ipyaladin) (5.9.5)\n",
            "Requirement already satisfied: pyzmq>=17 in /usr/local/lib/python3.11/dist-packages (from ipykernel>=4.5.1->ipywidgets>=7.6.0->anywidget->ipyaladin) (24.0.1)\n",
            "Requirement already satisfied: tornado>=6.1 in /usr/local/lib/python3.11/dist-packages (from ipykernel>=4.5.1->ipywidgets>=7.6.0->anywidget->ipyaladin) (6.4.2)\n",
            "Requirement already satisfied: setuptools>=18.5 in /usr/local/lib/python3.11/dist-packages (from ipython>=4.0.0->ipywidgets>=7.6.0->anywidget->ipyaladin) (75.2.0)\n",
            "Requirement already satisfied: jedi>=0.16 in /usr/local/lib/python3.11/dist-packages (from ipython>=4.0.0->ipywidgets>=7.6.0->anywidget->ipyaladin) (0.19.2)\n",
            "Requirement already satisfied: decorator in /usr/local/lib/python3.11/dist-packages (from ipython>=4.0.0->ipywidgets>=7.6.0->anywidget->ipyaladin) (4.4.2)\n",
            "Requirement already satisfied: pickleshare in /usr/local/lib/python3.11/dist-packages (from ipython>=4.0.0->ipywidgets>=7.6.0->anywidget->ipyaladin) (0.7.5)\n",
            "Requirement already satisfied: prompt-toolkit!=3.0.0,!=3.0.1,<3.1.0,>=2.0.0 in /usr/local/lib/python3.11/dist-packages (from ipython>=4.0.0->ipywidgets>=7.6.0->anywidget->ipyaladin) (3.0.50)\n",
            "Requirement already satisfied: pygments in /usr/local/lib/python3.11/dist-packages (from ipython>=4.0.0->ipywidgets>=7.6.0->anywidget->ipyaladin) (2.18.0)\n",
            "Requirement already satisfied: backcall in /usr/local/lib/python3.11/dist-packages (from ipython>=4.0.0->ipywidgets>=7.6.0->anywidget->ipyaladin) (0.2.0)\n",
            "Requirement already satisfied: pexpect>4.3 in /usr/local/lib/python3.11/dist-packages (from ipython>=4.0.0->ipywidgets>=7.6.0->anywidget->ipyaladin) (4.9.0)\n",
            "Requirement already satisfied: notebook>=4.4.1 in /usr/local/lib/python3.11/dist-packages (from widgetsnbextension~=3.6.0->ipywidgets>=7.6.0->anywidget->ipyaladin) (6.5.7)\n",
            "Requirement already satisfied: parso<0.9.0,>=0.8.4 in /usr/local/lib/python3.11/dist-packages (from jedi>=0.16->ipython>=4.0.0->ipywidgets>=7.6.0->anywidget->ipyaladin) (0.8.4)\n",
            "Requirement already satisfied: jupyter-core>=4.6.0 in /usr/local/lib/python3.11/dist-packages (from jupyter-client>=6.1.12->ipykernel>=4.5.1->ipywidgets>=7.6.0->anywidget->ipyaladin) (5.7.2)\n",
            "Requirement already satisfied: python-dateutil>=2.1 in /usr/local/lib/python3.11/dist-packages (from jupyter-client>=6.1.12->ipykernel>=4.5.1->ipywidgets>=7.6.0->anywidget->ipyaladin) (2.8.2)\n",
            "Requirement already satisfied: jinja2 in /usr/local/lib/python3.11/dist-packages (from notebook>=4.4.1->widgetsnbextension~=3.6.0->ipywidgets>=7.6.0->anywidget->ipyaladin) (3.1.6)\n",
            "Requirement already satisfied: argon2-cffi in /usr/local/lib/python3.11/dist-packages (from notebook>=4.4.1->widgetsnbextension~=3.6.0->ipywidgets>=7.6.0->anywidget->ipyaladin) (23.1.0)\n",
            "Requirement already satisfied: nbformat in /usr/local/lib/python3.11/dist-packages (from notebook>=4.4.1->widgetsnbextension~=3.6.0->ipywidgets>=7.6.0->anywidget->ipyaladin) (5.10.4)\n",
            "Requirement already satisfied: nbconvert>=5 in /usr/local/lib/python3.11/dist-packages (from notebook>=4.4.1->widgetsnbextension~=3.6.0->ipywidgets>=7.6.0->anywidget->ipyaladin) (7.16.6)\n",
            "Requirement already satisfied: Send2Trash>=1.8.0 in /usr/local/lib/python3.11/dist-packages (from notebook>=4.4.1->widgetsnbextension~=3.6.0->ipywidgets>=7.6.0->anywidget->ipyaladin) (1.8.3)\n",
            "Requirement already satisfied: terminado>=0.8.3 in /usr/local/lib/python3.11/dist-packages (from notebook>=4.4.1->widgetsnbextension~=3.6.0->ipywidgets>=7.6.0->anywidget->ipyaladin) (0.18.1)\n",
            "Requirement already satisfied: prometheus-client in /usr/local/lib/python3.11/dist-packages (from notebook>=4.4.1->widgetsnbextension~=3.6.0->ipywidgets>=7.6.0->anywidget->ipyaladin) (0.21.1)\n",
            "Requirement already satisfied: nbclassic>=0.4.7 in /usr/local/lib/python3.11/dist-packages (from notebook>=4.4.1->widgetsnbextension~=3.6.0->ipywidgets>=7.6.0->anywidget->ipyaladin) (1.2.0)\n",
            "Requirement already satisfied: ptyprocess>=0.5 in /usr/local/lib/python3.11/dist-packages (from pexpect>4.3->ipython>=4.0.0->ipywidgets>=7.6.0->anywidget->ipyaladin) (0.7.0)\n",
            "Requirement already satisfied: wcwidth in /usr/local/lib/python3.11/dist-packages (from prompt-toolkit!=3.0.0,!=3.0.1,<3.1.0,>=2.0.0->ipython>=4.0.0->ipywidgets>=7.6.0->anywidget->ipyaladin) (0.2.13)\n",
            "Requirement already satisfied: platformdirs>=2.5 in /usr/local/lib/python3.11/dist-packages (from jupyter-core>=4.6.0->jupyter-client>=6.1.12->ipykernel>=4.5.1->ipywidgets>=7.6.0->anywidget->ipyaladin) (4.3.7)\n",
            "Requirement already satisfied: notebook-shim>=0.2.3 in /usr/local/lib/python3.11/dist-packages (from nbclassic>=0.4.7->notebook>=4.4.1->widgetsnbextension~=3.6.0->ipywidgets>=7.6.0->anywidget->ipyaladin) (0.2.4)\n",
            "Requirement already satisfied: beautifulsoup4 in /usr/local/lib/python3.11/dist-packages (from nbconvert>=5->notebook>=4.4.1->widgetsnbextension~=3.6.0->ipywidgets>=7.6.0->anywidget->ipyaladin) (4.13.3)\n",
            "Requirement already satisfied: bleach!=5.0.0 in /usr/local/lib/python3.11/dist-packages (from bleach[css]!=5.0.0->nbconvert>=5->notebook>=4.4.1->widgetsnbextension~=3.6.0->ipywidgets>=7.6.0->anywidget->ipyaladin) (6.2.0)\n",
            "Requirement already satisfied: defusedxml in /usr/local/lib/python3.11/dist-packages (from nbconvert>=5->notebook>=4.4.1->widgetsnbextension~=3.6.0->ipywidgets>=7.6.0->anywidget->ipyaladin) (0.7.1)\n",
            "Requirement already satisfied: jupyterlab-pygments in /usr/local/lib/python3.11/dist-packages (from nbconvert>=5->notebook>=4.4.1->widgetsnbextension~=3.6.0->ipywidgets>=7.6.0->anywidget->ipyaladin) (0.3.0)\n",
            "Requirement already satisfied: markupsafe>=2.0 in /usr/local/lib/python3.11/dist-packages (from nbconvert>=5->notebook>=4.4.1->widgetsnbextension~=3.6.0->ipywidgets>=7.6.0->anywidget->ipyaladin) (3.0.2)\n",
            "Requirement already satisfied: mistune<4,>=2.0.3 in /usr/local/lib/python3.11/dist-packages (from nbconvert>=5->notebook>=4.4.1->widgetsnbextension~=3.6.0->ipywidgets>=7.6.0->anywidget->ipyaladin) (3.1.3)\n",
            "Requirement already satisfied: nbclient>=0.5.0 in /usr/local/lib/python3.11/dist-packages (from nbconvert>=5->notebook>=4.4.1->widgetsnbextension~=3.6.0->ipywidgets>=7.6.0->anywidget->ipyaladin) (0.10.2)\n",
            "Requirement already satisfied: pandocfilters>=1.4.1 in /usr/local/lib/python3.11/dist-packages (from nbconvert>=5->notebook>=4.4.1->widgetsnbextension~=3.6.0->ipywidgets>=7.6.0->anywidget->ipyaladin) (1.5.1)\n",
            "Requirement already satisfied: fastjsonschema>=2.15 in /usr/local/lib/python3.11/dist-packages (from nbformat->notebook>=4.4.1->widgetsnbextension~=3.6.0->ipywidgets>=7.6.0->anywidget->ipyaladin) (2.21.1)\n",
            "Requirement already satisfied: jsonschema>=2.6 in /usr/local/lib/python3.11/dist-packages (from nbformat->notebook>=4.4.1->widgetsnbextension~=3.6.0->ipywidgets>=7.6.0->anywidget->ipyaladin) (4.23.0)\n",
            "Requirement already satisfied: six>=1.5 in /usr/local/lib/python3.11/dist-packages (from python-dateutil>=2.1->jupyter-client>=6.1.12->ipykernel>=4.5.1->ipywidgets>=7.6.0->anywidget->ipyaladin) (1.17.0)\n",
            "Requirement already satisfied: argon2-cffi-bindings in /usr/local/lib/python3.11/dist-packages (from argon2-cffi->notebook>=4.4.1->widgetsnbextension~=3.6.0->ipywidgets>=7.6.0->anywidget->ipyaladin) (21.2.0)\n",
            "Requirement already satisfied: webencodings in /usr/local/lib/python3.11/dist-packages (from bleach!=5.0.0->bleach[css]!=5.0.0->nbconvert>=5->notebook>=4.4.1->widgetsnbextension~=3.6.0->ipywidgets>=7.6.0->anywidget->ipyaladin) (0.5.1)\n",
            "Requirement already satisfied: tinycss2<1.5,>=1.1.0 in /usr/local/lib/python3.11/dist-packages (from bleach[css]!=5.0.0->nbconvert>=5->notebook>=4.4.1->widgetsnbextension~=3.6.0->ipywidgets>=7.6.0->anywidget->ipyaladin) (1.4.0)\n",
            "Requirement already satisfied: attrs>=22.2.0 in /usr/local/lib/python3.11/dist-packages (from jsonschema>=2.6->nbformat->notebook>=4.4.1->widgetsnbextension~=3.6.0->ipywidgets>=7.6.0->anywidget->ipyaladin) (25.3.0)\n",
            "Requirement already satisfied: jsonschema-specifications>=2023.03.6 in /usr/local/lib/python3.11/dist-packages (from jsonschema>=2.6->nbformat->notebook>=4.4.1->widgetsnbextension~=3.6.0->ipywidgets>=7.6.0->anywidget->ipyaladin) (2024.10.1)\n",
            "Requirement already satisfied: referencing>=0.28.4 in /usr/local/lib/python3.11/dist-packages (from jsonschema>=2.6->nbformat->notebook>=4.4.1->widgetsnbextension~=3.6.0->ipywidgets>=7.6.0->anywidget->ipyaladin) (0.36.2)\n",
            "Requirement already satisfied: rpds-py>=0.7.1 in /usr/local/lib/python3.11/dist-packages (from jsonschema>=2.6->nbformat->notebook>=4.4.1->widgetsnbextension~=3.6.0->ipywidgets>=7.6.0->anywidget->ipyaladin) (0.24.0)\n",
            "Requirement already satisfied: jupyter-server<3,>=1.8 in /usr/local/lib/python3.11/dist-packages (from notebook-shim>=0.2.3->nbclassic>=0.4.7->notebook>=4.4.1->widgetsnbextension~=3.6.0->ipywidgets>=7.6.0->anywidget->ipyaladin) (1.16.0)\n",
            "Requirement already satisfied: cffi>=1.0.1 in /usr/local/lib/python3.11/dist-packages (from argon2-cffi-bindings->argon2-cffi->notebook>=4.4.1->widgetsnbextension~=3.6.0->ipywidgets>=7.6.0->anywidget->ipyaladin) (1.17.1)\n",
            "Requirement already satisfied: soupsieve>1.2 in /usr/local/lib/python3.11/dist-packages (from beautifulsoup4->nbconvert>=5->notebook>=4.4.1->widgetsnbextension~=3.6.0->ipywidgets>=7.6.0->anywidget->ipyaladin) (2.6)\n",
            "Requirement already satisfied: pycparser in /usr/local/lib/python3.11/dist-packages (from cffi>=1.0.1->argon2-cffi-bindings->argon2-cffi->notebook>=4.4.1->widgetsnbextension~=3.6.0->ipywidgets>=7.6.0->anywidget->ipyaladin) (2.22)\n",
            "Requirement already satisfied: anyio>=3.1.0 in /usr/local/lib/python3.11/dist-packages (from jupyter-server<3,>=1.8->notebook-shim>=0.2.3->nbclassic>=0.4.7->notebook>=4.4.1->widgetsnbextension~=3.6.0->ipywidgets>=7.6.0->anywidget->ipyaladin) (4.9.0)\n",
            "Requirement already satisfied: websocket-client in /usr/local/lib/python3.11/dist-packages (from jupyter-server<3,>=1.8->notebook-shim>=0.2.3->nbclassic>=0.4.7->notebook>=4.4.1->widgetsnbextension~=3.6.0->ipywidgets>=7.6.0->anywidget->ipyaladin) (1.8.0)\n",
            "Requirement already satisfied: idna>=2.8 in /usr/local/lib/python3.11/dist-packages (from anyio>=3.1.0->jupyter-server<3,>=1.8->notebook-shim>=0.2.3->nbclassic>=0.4.7->notebook>=4.4.1->widgetsnbextension~=3.6.0->ipywidgets>=7.6.0->anywidget->ipyaladin) (3.10)\n",
            "Requirement already satisfied: sniffio>=1.1 in /usr/local/lib/python3.11/dist-packages (from anyio>=3.1.0->jupyter-server<3,>=1.8->notebook-shim>=0.2.3->nbclassic>=0.4.7->notebook>=4.4.1->widgetsnbextension~=3.6.0->ipywidgets>=7.6.0->anywidget->ipyaladin) (1.3.1)\n",
            "Collecting astroquery\n",
            "  Downloading astroquery-0.4.10-py3-none-any.whl.metadata (6.3 kB)\n",
            "Requirement already satisfied: numpy>=1.20 in /usr/local/lib/python3.11/dist-packages (from astroquery) (2.0.2)\n",
            "Requirement already satisfied: astropy>=5.0 in /usr/local/lib/python3.11/dist-packages (from astroquery) (7.0.1)\n",
            "Requirement already satisfied: requests>=2.19 in /usr/local/lib/python3.11/dist-packages (from astroquery) (2.32.3)\n",
            "Requirement already satisfied: beautifulsoup4>=4.8 in /usr/local/lib/python3.11/dist-packages (from astroquery) (4.13.3)\n",
            "Requirement already satisfied: html5lib>=0.999 in /usr/local/lib/python3.11/dist-packages (from astroquery) (1.1)\n",
            "Requirement already satisfied: keyring>=15.0 in /usr/lib/python3/dist-packages (from astroquery) (23.5.0)\n",
            "Requirement already satisfied: pyvo>=1.5 in /usr/local/lib/python3.11/dist-packages (from astroquery) (1.6.1)\n",
            "Requirement already satisfied: pyerfa>=2.0.1.1 in /usr/local/lib/python3.11/dist-packages (from astropy>=5.0->astroquery) (2.0.1.5)\n",
            "Requirement already satisfied: astropy-iers-data>=0.2025.1.31.12.41.4 in /usr/local/lib/python3.11/dist-packages (from astropy>=5.0->astroquery) (0.2025.3.31.0.36.18)\n",
            "Requirement already satisfied: PyYAML>=6.0.0 in /usr/local/lib/python3.11/dist-packages (from astropy>=5.0->astroquery) (6.0.2)\n",
            "Requirement already satisfied: packaging>=22.0.0 in /usr/local/lib/python3.11/dist-packages (from astropy>=5.0->astroquery) (24.2)\n",
            "Requirement already satisfied: soupsieve>1.2 in /usr/local/lib/python3.11/dist-packages (from beautifulsoup4>=4.8->astroquery) (2.6)\n",
            "Requirement already satisfied: typing-extensions>=4.0.0 in /usr/local/lib/python3.11/dist-packages (from beautifulsoup4>=4.8->astroquery) (4.13.0)\n",
            "Requirement already satisfied: six>=1.9 in /usr/local/lib/python3.11/dist-packages (from html5lib>=0.999->astroquery) (1.17.0)\n",
            "Requirement already satisfied: webencodings in /usr/local/lib/python3.11/dist-packages (from html5lib>=0.999->astroquery) (0.5.1)\n",
            "Requirement already satisfied: charset-normalizer<4,>=2 in /usr/local/lib/python3.11/dist-packages (from requests>=2.19->astroquery) (3.4.1)\n",
            "Requirement already satisfied: idna<4,>=2.5 in /usr/local/lib/python3.11/dist-packages (from requests>=2.19->astroquery) (3.10)\n",
            "Requirement already satisfied: urllib3<3,>=1.21.1 in /usr/local/lib/python3.11/dist-packages (from requests>=2.19->astroquery) (2.3.0)\n",
            "Requirement already satisfied: certifi>=2017.4.17 in /usr/local/lib/python3.11/dist-packages (from requests>=2.19->astroquery) (2025.1.31)\n",
            "Downloading astroquery-0.4.10-py3-none-any.whl (11.1 MB)\n",
            "\u001b[2K   \u001b[90m━━━━━━━━━━━━━━━━━━━━━━━━━━━━━━━━━━━━━━━━\u001b[0m \u001b[32m11.1/11.1 MB\u001b[0m \u001b[31m64.2 MB/s\u001b[0m eta \u001b[36m0:00:00\u001b[0m\n",
            "\u001b[?25hInstalling collected packages: astroquery\n",
            "Successfully installed astroquery-0.4.10\n"
          ]
        }
      ],
      "source": [
        "!pip install pyvo\n",
        "!pip install mocpy\n",
        "!pip install astropy\n",
        "!pip install ipyaladin\n",
        "!pip install astroquery"
      ]
    },
    {
      "cell_type": "code",
      "source": [
        "# Access astronomical databases\n",
        "from pyvo import registry  # version >=1.6\n",
        "\n",
        "# Moc and HEALPix tools\n",
        "from mocpy import MOC\n",
        "\n",
        "# Coordinates manipulation\n",
        "from astropy.coordinates import SkyCoord\n",
        "\n",
        "# Sky visualization\n",
        "from ipyaladin import Aladin  # version >=0.4.0\n",
        "\n",
        "# For plots\n",
        "import matplotlib.pyplot as plt\n"
      ],
      "metadata": {
        "id": "HWM1MSLCOitS"
      },
      "execution_count": 35,
      "outputs": []
    },
    {
      "cell_type": "code",
      "source": [
        "from astroquery.gaia import Gaia\n",
        "Gaia.MAIN_GAIA_TABLE = \"gaiadr2.gaia_source\"  # Select Data Release 2\n",
        "Gaia.MAIN_GAIA_TABLE = \"gaiadr3.gaia_source\"  # Reselect Data Release 3, default"
      ],
      "metadata": {
        "id": "uxspZhouYutJ"
      },
      "execution_count": 39,
      "outputs": []
    },
    {
      "cell_type": "code",
      "source": [
        "from astroquery.gaia import Gaia\n",
        "gaiadr3_table = Gaia.load_table('gaiadr3.gaia_source')\n",
        "print(gaiadr3_table)\n"
      ],
      "metadata": {
        "colab": {
          "base_uri": "https://localhost:8080/"
        },
        "id": "t727C5QPYgm4",
        "outputId": "965261ac-ba2e-4cfe-8285-0e8db1174908"
      },
      "execution_count": 40,
      "outputs": [
        {
          "output_type": "stream",
          "name": "stdout",
          "text": [
            "TAP Table name: gaiadr3.gaia_source\n",
            "Description: This table has an entry for every Gaia observed source as published with this data release. It contains the basic source parameters, in their final state as processed by the Gaia Data Processing and Analysis Consortium from the raw data coming from the spacecraft. The table is complemented with others containing information specific to certain kinds of objects (e.g.~Solar--system objects, non--single stars, variables etc.) and value--added processing (e.g.~astrophysical parameters etc.). Further array data types (spectra, epoch measurements) are presented separately via Datalink resources.\n",
            "Size (bytes): 3646930329600\n",
            "Num. columns: 152\n"
          ]
        }
      ]
    },
    {
      "cell_type": "code",
      "source": [
        "for column in gaiadr3_table.columns:\n",
        "  print(column.name)"
      ],
      "metadata": {
        "colab": {
          "base_uri": "https://localhost:8080/"
        },
        "id": "sNVTrQjyYmb3",
        "outputId": "b2d80281-c4bb-45ec-f10c-1fb209a4a17e"
      },
      "execution_count": 43,
      "outputs": [
        {
          "output_type": "stream",
          "name": "stdout",
          "text": [
            "solution_id\n",
            "designation\n",
            "source_id\n",
            "random_index\n",
            "ref_epoch\n",
            "ra\n",
            "ra_error\n",
            "dec\n",
            "dec_error\n",
            "parallax\n",
            "parallax_error\n",
            "parallax_over_error\n",
            "pm\n",
            "pmra\n",
            "pmra_error\n",
            "pmdec\n",
            "pmdec_error\n",
            "ra_dec_corr\n",
            "ra_parallax_corr\n",
            "ra_pmra_corr\n",
            "ra_pmdec_corr\n",
            "dec_parallax_corr\n",
            "dec_pmra_corr\n",
            "dec_pmdec_corr\n",
            "parallax_pmra_corr\n",
            "parallax_pmdec_corr\n",
            "pmra_pmdec_corr\n",
            "astrometric_n_obs_al\n",
            "astrometric_n_obs_ac\n",
            "astrometric_n_good_obs_al\n",
            "astrometric_n_bad_obs_al\n",
            "astrometric_gof_al\n",
            "astrometric_chi2_al\n",
            "astrometric_excess_noise\n",
            "astrometric_excess_noise_sig\n",
            "astrometric_params_solved\n",
            "astrometric_primary_flag\n",
            "nu_eff_used_in_astrometry\n",
            "pseudocolour\n",
            "pseudocolour_error\n",
            "ra_pseudocolour_corr\n",
            "dec_pseudocolour_corr\n",
            "parallax_pseudocolour_corr\n",
            "pmra_pseudocolour_corr\n",
            "pmdec_pseudocolour_corr\n",
            "astrometric_matched_transits\n",
            "visibility_periods_used\n",
            "astrometric_sigma5d_max\n",
            "matched_transits\n",
            "new_matched_transits\n",
            "matched_transits_removed\n",
            "ipd_gof_harmonic_amplitude\n",
            "ipd_gof_harmonic_phase\n",
            "ipd_frac_multi_peak\n",
            "ipd_frac_odd_win\n",
            "ruwe\n",
            "scan_direction_strength_k1\n",
            "scan_direction_strength_k2\n",
            "scan_direction_strength_k3\n",
            "scan_direction_strength_k4\n",
            "scan_direction_mean_k1\n",
            "scan_direction_mean_k2\n",
            "scan_direction_mean_k3\n",
            "scan_direction_mean_k4\n",
            "duplicated_source\n",
            "phot_g_n_obs\n",
            "phot_g_mean_flux\n",
            "phot_g_mean_flux_error\n",
            "phot_g_mean_flux_over_error\n",
            "phot_g_mean_mag\n",
            "phot_bp_n_obs\n",
            "phot_bp_mean_flux\n",
            "phot_bp_mean_flux_error\n",
            "phot_bp_mean_flux_over_error\n",
            "phot_bp_mean_mag\n",
            "phot_rp_n_obs\n",
            "phot_rp_mean_flux\n",
            "phot_rp_mean_flux_error\n",
            "phot_rp_mean_flux_over_error\n",
            "phot_rp_mean_mag\n",
            "phot_bp_rp_excess_factor\n",
            "phot_bp_n_contaminated_transits\n",
            "phot_bp_n_blended_transits\n",
            "phot_rp_n_contaminated_transits\n",
            "phot_rp_n_blended_transits\n",
            "phot_proc_mode\n",
            "bp_rp\n",
            "bp_g\n",
            "g_rp\n",
            "radial_velocity\n",
            "radial_velocity_error\n",
            "rv_method_used\n",
            "rv_nb_transits\n",
            "rv_nb_deblended_transits\n",
            "rv_visibility_periods_used\n",
            "rv_expected_sig_to_noise\n",
            "rv_renormalised_gof\n",
            "rv_chisq_pvalue\n",
            "rv_time_duration\n",
            "rv_amplitude_robust\n",
            "rv_template_teff\n",
            "rv_template_logg\n",
            "rv_template_fe_h\n",
            "rv_atm_param_origin\n",
            "vbroad\n",
            "vbroad_error\n",
            "vbroad_nb_transits\n",
            "grvs_mag\n",
            "grvs_mag_error\n",
            "grvs_mag_nb_transits\n",
            "rvs_spec_sig_to_noise\n",
            "phot_variable_flag\n",
            "l\n",
            "b\n",
            "ecl_lon\n",
            "ecl_lat\n",
            "in_qso_candidates\n",
            "in_galaxy_candidates\n",
            "non_single_star\n",
            "has_xp_continuous\n",
            "has_xp_sampled\n",
            "has_rvs\n",
            "has_epoch_photometry\n",
            "has_epoch_rv\n",
            "has_mcmc_gspphot\n",
            "has_mcmc_msc\n",
            "in_andromeda_survey\n",
            "classprob_dsc_combmod_quasar\n",
            "classprob_dsc_combmod_galaxy\n",
            "classprob_dsc_combmod_star\n",
            "teff_gspphot\n",
            "teff_gspphot_lower\n",
            "teff_gspphot_upper\n",
            "logg_gspphot\n",
            "logg_gspphot_lower\n",
            "logg_gspphot_upper\n",
            "mh_gspphot\n",
            "mh_gspphot_lower\n",
            "mh_gspphot_upper\n",
            "distance_gspphot\n",
            "distance_gspphot_lower\n",
            "distance_gspphot_upper\n",
            "azero_gspphot\n",
            "azero_gspphot_lower\n",
            "azero_gspphot_upper\n",
            "ag_gspphot\n",
            "ag_gspphot_lower\n",
            "ag_gspphot_upper\n",
            "ebpminrp_gspphot\n",
            "ebpminrp_gspphot_lower\n",
            "ebpminrp_gspphot_upper\n",
            "libname_gspphot\n"
          ]
        }
      ]
    },
    {
      "cell_type": "code",
      "source": [
        "# the catalogue name in VizieR\n",
        "CATALOGUE = \"J/A+A/616/A10\"\n",
        "# CATALOGUE = \"J/A+A/620/A128\"\n"
      ],
      "metadata": {
        "id": "acfBGiMWOoRv"
      },
      "execution_count": 17,
      "outputs": []
    },
    {
      "cell_type": "code",
      "source": [
        "# each resource in the VO has an identifier, called ivoid. For vizier catalogs,\n",
        "# the VO ids can be constructed like this:\n",
        "catalogue_ivoid = f\"ivo://CDS.VizieR/{CATALOGUE}\"\n",
        "# the actual query to the registry\n",
        "voresource = registry.search(ivoid=catalogue_ivoid)[0]"
      ],
      "metadata": {
        "id": "XkdBkXAzOuIh"
      },
      "execution_count": 33,
      "outputs": []
    },
    {
      "cell_type": "code",
      "source": [
        "# We can print metadata information about the catalogue\n",
        "voresource.describe(verbose=True)"
      ],
      "metadata": {
        "colab": {
          "base_uri": "https://localhost:8080/"
        },
        "id": "lQtKufiYOwJR",
        "outputId": "4737ad21-1223-483f-da87-09590e965aae"
      },
      "execution_count": 19,
      "outputs": [
        {
          "output_type": "stream",
          "name": "stdout",
          "text": [
            "46 open clusters GaiaDR2 HR diagrams\n",
            "Short Name: J/A+A/616/A10\n",
            "IVOA Identifier: ivo://cds.vizier/j/a+a/616/a10\n",
            "Access modes: conesearch, tap#aux, web\n",
            "- tap#aux: http://tapvizier.cds.unistra.fr/TAPVizieR/tap\n",
            "- webpage: http://vizier.cds.unistra.fr/viz-bin/VizieR-2?-source=J/A+A/616/A10\n",
            "- conesearch: https://vizier.cds.unistra.fr/viz-\n",
            " bin/conesearch/J/A+A/616/A10/tablea1a?, description: Cone search capability\n",
            " for table J/A+A/616/A10/tablea1a (Stars in nine open clusters within 250pc)\n",
            "- conesearch: https://vizier.cds.unistra.fr/viz-\n",
            " bin/conesearch/J/A+A/616/A10/tablea1b?, description: Cone search capability\n",
            " for table J/A+A/616/A10/tablea1b (Stars in 37 open clusters beyond 250pc)\n",
            "- conesearch: https://vizier.cds.unistra.fr/viz-\n",
            " bin/conesearch/J/A+A/616/A10/tablea3?, description: Cone search capability\n",
            " for table J/A+A/616/A10/tablea3 (Mean parameters for clusters within 250pc)\n",
            "- conesearch: https://vizier.cds.unistra.fr/viz-\n",
            " bin/conesearch/J/A+A/616/A10/tablea4?, description: Cone search capability\n",
            " for table J/A+A/616/A10/tablea4 (Mean parameters for clusters beyond 250pc)\n",
            "\n",
            "Gaia Data Release 2 provides high-precision astrometry and three-band\n",
            "photometry for about 1.3 billion sources over the full sky. The precision,\n",
            "accuracy, and homogeneity of both astrometry and photometry are unprecedented.\n",
            "We highlight the power of the Gaia DR2 in studying many fine structures of the\n",
            "Hertzsprung-Russell diagram (HRD). Gaia allows us to present many different\n",
            "HRDs, depending in particular on stellar population selections. We do not aim\n",
            "here for completeness in terms of types of stars or stellar evolutionary\n",
            "aspects. Instead, we have chosen several illustrative examples. We describe\n",
            "some of the selections that can be made in Gaia DR2 to highlight the main\n",
            "structures of the Gaia HRDs. We select both field and cluster (open and\n",
            "globular) stars, compare the observations with previous classifications and\n",
            "with stellar evolutionary tracks, and we present variations of the Gaia HRD\n",
            "with age, metallicity, and kinematics. Late stages of stellar evolution such\n",
            "as hot subdwarfs, post-AGB stars, planetary nebulae, and white dwarfs are also\n",
            "analysed, as well as low-mass brown dwarf objects. The Gaia HRDs are\n",
            "unprecedented in both precision and coverage of the various Milky Way stellar\n",
            "populations and stellar evolutionary phases. Many fine structures of the HRDs\n",
            "are presented. The clear split of the white dwarf sequence into hydrogen and\n",
            "helium white dwarfs is presented for the first time in an HRD. The relation\n",
            "between kinematics and the HRD is nicely illustrated. Two different\n",
            "populations in a classical kinematic selection of the halo are unambiguously\n",
            "identified in the HRD. Membership and mean parameters for a selected list of\n",
            "open clusters are provided. They allow drawing very detailed cluster\n",
            "sequences, highlighting fine structures, and providing extremely precise\n",
            "empirical isochrones that will lead to more insight in stellar physics. Gaia\n",
            "DR2 demonstrates the potential of combining precise astrometry and photometry\n",
            "for large samples for studies in stellar evolution and stellar population and\n",
            "opens an entire new area for HRD-based studies.\n",
            "\n",
            "Waveband Coverage: optical\n",
            "\n",
            "Source: 2018A&A...616A..10G\n",
            "Authors: Gaia Collaboration,  Babusiaux C.,  van Leeuwen F.,  Barstow,  M. A.,Jordi C. et al.\n",
            "See creators attribute for the complete list of authors.\n",
            "Alternative identifier(s): doi:10.26093/cds/vizier.36160010\n",
            "More info: https://cdsarc.cds.unistra.fr/viz-bin/cat/J/A+A/616/A10\n"
          ]
        }
      ]
    },
    {
      "cell_type": "code",
      "source": [
        "voresource.get_tables()"
      ],
      "metadata": {
        "colab": {
          "base_uri": "https://localhost:8080/"
        },
        "id": "Ynw5a9brQ90b",
        "outputId": "f84aff27-6f95-4102-9431-4eaeb1c2d123"
      },
      "execution_count": 6,
      "outputs": [
        {
          "output_type": "stream",
          "name": "stderr",
          "text": [
            "WARNING: W02: ?:?:?: W02: '' is not a valid datatype according to the VOSI spec [pyvo.io.vosi.vodataservice]\n",
            "WARNING:astropy:W02: ?:?:?: W02: '' is not a valid datatype according to the VOSI spec\n"
          ]
        },
        {
          "output_type": "execute_result",
          "data": {
            "text/plain": [
              "{'J/A+A/620/A128/hqsample': <VODataServiceTable name=\"J/A+A/620/A128/hqsample\">... 51 columns ...</VODataServiceTable>,\n",
              " 'J/A+A/620/A128/lqsample': <VODataServiceTable name=\"J/A+A/620/A128/lqsample\">... 51 columns ...</VODataServiceTable>,\n",
              " 'J/A+A/620/A128/refs': <VODataServiceTable name=\"J/A+A/620/A128/refs\">... 5 columns ...</VODataServiceTable>}"
            ]
          },
          "metadata": {},
          "execution_count": 6
        }
      ]
    },
    {
      "cell_type": "code",
      "source": [
        "tables = voresource.get_tables()\n",
        "tables_names = list(tables.keys())\n",
        "tables_names"
      ],
      "metadata": {
        "colab": {
          "base_uri": "https://localhost:8080/"
        },
        "id": "2zr7Gak3SGZP",
        "outputId": "98d22ead-621e-4788-c620-8ed9caf79b15"
      },
      "execution_count": 20,
      "outputs": [
        {
          "output_type": "stream",
          "name": "stderr",
          "text": [
            "WARNING: W02: ?:?:?: W02: '' is not a valid datatype according to the VOSI spec [pyvo.io.vosi.vodataservice]\n",
            "WARNING:astropy:W02: ?:?:?: W02: '' is not a valid datatype according to the VOSI spec\n"
          ]
        },
        {
          "output_type": "execute_result",
          "data": {
            "text/plain": [
              "['J/A+A/616/A10/tablea1a',\n",
              " 'J/A+A/616/A10/tablea1b',\n",
              " 'J/A+A/616/A10/tablea3',\n",
              " 'J/A+A/616/A10/tablea4']"
            ]
          },
          "metadata": {},
          "execution_count": 20
        }
      ]
    },
    {
      "cell_type": "code",
      "source": [
        "# get the first table of the catalogue\n",
        "first_table_name = tables_names[3]\n",
        "\n",
        "# execute a synchronous ADQL query\n",
        "tap_service = voresource.get_service(\"tap\")\n",
        "tap_records = tap_service.search(\n",
        "    f'select TOP 10 * from \"{first_table_name}\"',\n",
        ")\n",
        "tap_records.fielddescs"
      ],
      "metadata": {
        "colab": {
          "base_uri": "https://localhost:8080/"
        },
        "id": "1JnpGVTHRv7D",
        "outputId": "1b79c155-5f0c-468d-f118-85f5fee9906b"
      },
      "execution_count": 25,
      "outputs": [
        {
          "output_type": "execute_result",
          "data": {
            "text/plain": [
              "[<FIELD ID=\"recno\" datatype=\"int\" name=\"recno\" ucd=\"meta.record\"/>,\n",
              " <FIELD ID=\"NMemb\" datatype=\"short\" name=\"NMemb\" ucd=\"meta.number\"/>,\n",
              " <FIELD ID=\"Cluster\" arraysize=\"*\" datatype=\"char\" name=\"Cluster\" ucd=\"meta.id.parent\"/>,\n",
              " <FIELD ID=\"RAJ2000\" datatype=\"double\" name=\"RAJ2000\" ref=\"coosys_c36160010ta4\" ucd=\"pos.eq.ra;meta.main\" unit=\"deg\"/>,\n",
              " <FIELD ID=\"DEJ2000\" datatype=\"double\" name=\"DEJ2000\" ref=\"coosys_c36160010ta4\" ucd=\"pos.eq.dec;meta.main\" unit=\"deg\"/>,\n",
              " <FIELD ID=\"plx\" datatype=\"double\" name=\"plx\" ucd=\"pos.parallax.trig\" unit=\"mas\"/>,\n",
              " <FIELD ID=\"e_plx\" datatype=\"double\" name=\"e_plx\" ucd=\"stat.error;pos.parallax\" unit=\"mas\"/>,\n",
              " <FIELD ID=\"pmRA\" datatype=\"double\" name=\"pmRA\" ref=\"coosys_c36160010ta4\" ucd=\"pos.pm;pos.eq.ra\" unit=\"mas / yr\"/>,\n",
              " <FIELD ID=\"e_pmRA\" datatype=\"double\" name=\"e_pmRA\" ucd=\"stat.error;pos.pm;pos.eq.ra\" unit=\"mas / yr\"/>,\n",
              " <FIELD ID=\"pmDE\" datatype=\"double\" name=\"pmDE\" ref=\"coosys_c36160010ta4\" ucd=\"pos.pm;pos.eq.dec\" unit=\"mas / yr\"/>,\n",
              " <FIELD ID=\"e_pmDE\" datatype=\"double\" name=\"e_pmDE\" ucd=\"stat.error;pos.pm;pos.eq.dec\" unit=\"mas / yr\"/>,\n",
              " <FIELD ID=\"cc1\" datatype=\"double\" name=\"cc1\" ucd=\"stat.correlation\"/>,\n",
              " <FIELD ID=\"cc2\" datatype=\"double\" name=\"cc2\" ucd=\"stat.correlation\"/>,\n",
              " <FIELD ID=\"cc3\" datatype=\"double\" name=\"cc3\" ucd=\"stat.correlation\"/>,\n",
              " <FIELD ID=\"rMax\" datatype=\"double\" name=\"rMax\" ucd=\"phys.angSize;stat.max\" unit=\"deg\"/>,\n",
              " <FIELD ID=\"uwsd\" datatype=\"double\" name=\"uwsd\" ucd=\"stat.stdev\"/>,\n",
              " <FIELD ID=\"RV\" datatype=\"double\" name=\"RV\" ucd=\"phys.veloc;pos.heliocentric\" unit=\"km / s\"/>,\n",
              " <FIELD ID=\"e_RV\" datatype=\"double\" name=\"e_RV\" ucd=\"stat.error\" unit=\"km / s\"/>,\n",
              " <FIELD ID=\"o_RV\" datatype=\"short\" name=\"o_RV\" ucd=\"meta.number\"/>,\n",
              " <FIELD ID=\"SimbadName\" arraysize=\"*\" datatype=\"char\" name=\"SimbadName\" ucd=\"meta.id\"/>]"
            ]
          },
          "metadata": {},
          "execution_count": 25
        }
      ]
    },
    {
      "cell_type": "code",
      "source": [
        "tap_records.infos"
      ],
      "metadata": {
        "colab": {
          "base_uri": "https://localhost:8080/"
        },
        "id": "tubRDmR1dBeg",
        "outputId": "3737fa65-9342-43ba-f656-d890a13f53cb"
      },
      "execution_count": 9,
      "outputs": [
        {
          "output_type": "execute_result",
          "data": {
            "text/plain": [
              "{'QUERY_STATUS': 'OK',\n",
              " 'PROVIDER': 'CDS',\n",
              " 'QUERY': 'select TOP 10 * from \"J/A+A/620/A128/hqsample\"',\n",
              " 'ivoid_service': 'ivo://CDS.VizieR/TAP',\n",
              " 'publisher': 'ivo://CDS',\n",
              " 'server_software': 'TAPVizieR-Vollt/1.1.3',\n",
              " 'service_protocol': 'ivo://ivoa.net/std/TAP/v1.1',\n",
              " 'request_date': '2025-04-06 18:55:10',\n",
              " 'contact': 'cds-question@unistra.fr',\n",
              " 'ivoid': 'ivo://CDS.VizieR/J/A+A/620/A128',\n",
              " 'reference_url': 'https://cdsarc.cds.unistra.fr/viz-bin/cat/J/A+A/620/A128',\n",
              " 'rights_uri': 'https://cds.unistra.fr/vizier-org/licences_vizier.html',\n",
              " 'creator': 'Vioque M.',\n",
              " 'article': '2018A&A...620A.128V',\n",
              " 'publication_date': '2018-12-07 10:26:58+01',\n",
              " 'product_type': 'Critical Comp.'}"
            ]
          },
          "metadata": {},
          "execution_count": 9
        }
      ]
    },
    {
      "cell_type": "code",
      "source": [
        "print(tap_records)"
      ],
      "metadata": {
        "colab": {
          "base_uri": "https://localhost:8080/"
        },
        "id": "ZherUWWOTS_2",
        "outputId": "d2588907-d7e7-403b-f7f1-1b4f56ba27a1"
      },
      "execution_count": 22,
      "outputs": [
        {
          "output_type": "stream",
          "name": "stdout",
          "text": [
            "<DALResultsTable length=10>\n",
            "recno       Source      Cluster  RAdeg    DEdeg     Gmag    plx    e_plx    _RA      _DE   \n",
            "                                  deg      deg      mag     mas     mas     deg      deg   \n",
            "int32       int64        object float64  float64  float64 float64 float64 float64  float64 \n",
            "----- ----------------- ------- -------- -------- ------- ------- ------- -------- --------\n",
            "  254 36629890579758592  Hyades 58.14384 11.26075  12.626  28.593   0.012 58.14306 11.26079\n",
            "  494 38329666836450304  Hyades 59.56042 12.62797  15.111  21.914   0.046 59.55985 12.62802\n",
            "  493 38354680725946240  Hyades 58.75658 12.48554   9.766  21.715   0.015 58.75601 12.48559\n",
            "  503 38670343642226816  Hyades 58.44438 13.39193  14.832  24.163   0.025 58.44372 13.39199\n",
            "  504 38929141191925760  Hyades 60.18786 13.90626   13.33  21.594   0.065  60.1873 13.90633\n",
            "  394 39305036729495936  Hyades   60.926 14.99122  15.039    24.1   0.041 60.92537 14.99133\n",
            "  495 40470720915966208  Hyades 58.72235 16.31552  12.957  22.551   0.112 58.72175 16.31562\n",
            "  492 42716408993806080  Hyades 53.14434 16.15326  12.981  20.568   0.058 53.14371 16.15333\n",
            "  429 43538293935879680  Hyades 58.77775 16.99837   8.735  24.398    0.03 58.77709 16.99848\n",
            "  430 43615122310787840  Hyades 58.29251 17.32696   5.868  23.133   0.057 58.29186 17.32709\n"
          ]
        }
      ]
    },
    {
      "cell_type": "code",
      "source": [],
      "metadata": {
        "colab": {
          "base_uri": "https://localhost:8080/",
          "height": 144
        },
        "collapsed": true,
        "id": "MlAsQ2D2bpxt",
        "outputId": "a06034cc-b5cc-4d9b-c51a-04fe1e132814"
      },
      "execution_count": 24,
      "outputs": [
        {
          "output_type": "error",
          "ename": "NameError",
          "evalue": "name 'pd' is not defined",
          "traceback": [
            "\u001b[0;31m---------------------------------------------------------------------------\u001b[0m",
            "\u001b[0;31mNameError\u001b[0m                                 Traceback (most recent call last)",
            "\u001b[0;32m<ipython-input-24-eb104548c962>\u001b[0m in \u001b[0;36m<cell line: 0>\u001b[0;34m()\u001b[0m\n\u001b[0;32m----> 1\u001b[0;31m \u001b[0mpd\u001b[0m\u001b[0;34m.\u001b[0m\u001b[0mset_option\u001b[0m\u001b[0;34m(\u001b[0m\u001b[0;34m'display.max_rows'\u001b[0m\u001b[0;34m,\u001b[0m \u001b[0;36m100\u001b[0m\u001b[0;34m)\u001b[0m \u001b[0;31m#replace n with the number of rows you want to see completely\u001b[0m\u001b[0;34m\u001b[0m\u001b[0;34m\u001b[0m\u001b[0m\n\u001b[0m",
            "\u001b[0;31mNameError\u001b[0m: name 'pd' is not defined"
          ]
        }
      ]
    },
    {
      "cell_type": "markdown",
      "source": [
        "ˊ\n",
        " **ndice** de cor=BP−RP\n",
        "Este índice de cor, que pode ser positivo ou negativo, dá uma indicação do tipo de cor da estrela. Estrelas mais azuis têm um índice de cor negativo (porque o BP será menor do que o RP), enquanto estrelas mais vermelhas terão um índice de cor positivo (porque o RP será maior do que o BP).\n",
        "\n",
        "Índice de cor negativo → Estrela azul.\n",
        "\n",
        "Índice de cor positivo → Estrela vermelha.\n",
        "\n",
        "Por exemplo:\n",
        "\n",
        "Estrelas azuis: Têm um índice de cor BP - RP negativo, o que significa que elas têm uma magnitude maior na banda azul (BP) do que na banda vermelha (RP).\n",
        "\n",
        "Estrelas vermelhas: Têm um índice de cor BP - RP positivo, o que indica que elas são mais brilhantes na banda vermelha."
      ],
      "metadata": {
        "id": "PUAklTYvhdrk"
      }
    },
    {
      "cell_type": "markdown",
      "source": [
        "phot_proc_mode : Photometry processing mode (byte)\n",
        "\n",
        "This flag indicates the photometric calibration process used for the source. The process is determined by the availability of colour information derived from the internally calibrated mean BP and RP source spectra. The following values are defined for Gaia DR3:\n",
        "\n",
        "• 0: this corresponds to the ‘gold’ photometric dataset. Sources in this dataset have complete colour information.\n",
        "• 1: this corresponds to the ‘silver’ photometric dataset. Sources in this dataset have incomplete colour information and therefore were calibrated using an iterative process that estimated the missing colour information from the source mean G and either BP or RP photometry (depending on which band had full colour information available) using empirical relationships derived from the gold dataset.\n",
        "• 2: this corresponds to the ‘bronze’ photometric dataset. Sources in this dataset had insufficient colour information and therefore were calibrated using default colour information derived from the gold dataset."
      ],
      "metadata": {
        "id": "o4Fd3jBHidDt"
      }
    },
    {
      "cell_type": "markdown",
      "source": [
        "bp_rp : BP - RP colour (float, Magnitude[mag])\n",
        "\n"
      ],
      "metadata": {
        "id": "97K1FPofirUl"
      }
    },
    {
      "cell_type": "markdown",
      "source": [
        "phot_g_mean_mag : G-band mean magnitude (float, Magnitude[mag])\n",
        "\n",
        "Mean magnitude in the G band. This is computed from the G-band mean flux (phot_g_mean_flux ) applying the magnitude zero-point in the Vega scale (see Section 5.4.1).\n",
        "\n",
        "No error is provided for this quantity as the error distribution is only symmetric in flux space. This converts to an asymmetric error distribution in magnitude space which cannot be represented by a single error value."
      ],
      "metadata": {
        "id": "tV_dnflqjuUS"
      }
    },
    {
      "cell_type": "markdown",
      "source": [
        "BY CHATGPT:\n",
        "\n",
        "3. Exemplo de campos relacionados à cor no Gaia DR2:\n",
        "Aqui estão alguns campos do Gaia DR2 que podem ser relevantes:\n",
        "\n",
        "BP_mag: A magnitude da estrela na banda azul (BP).\n",
        "\n",
        "RP_mag: A magnitude da estrela na banda vermelha (RP).\n",
        "\n",
        "G_mag: A magnitude na banda G (visível).\n",
        "\n",
        "BP-RP: O índice de cor que calcula a diferença entre as magnitudes BP e RP."
      ],
      "metadata": {
        "id": "-P9gZTjnj4-m"
      }
    }
  ]
}